{
 "cells": [
  {
   "cell_type": "markdown",
   "id": "49b51ea2",
   "metadata": {},
   "source": [
    "# Power System Analysis 2025/26 @ IST Work assessment\n"
   ]
  },
  {
   "cell_type": "code",
   "execution_count": 2,
   "id": "9896cb09",
   "metadata": {},
   "outputs": [],
   "source": [
    "import math\n",
    "import numpy as np\n",
    "import matplotlib.pyplot as plt\n",
    "import pandas as pd"
   ]
  },
  {
   "cell_type": "markdown",
   "id": "bf69c3eb",
   "metadata": {},
   "source": [
    "First, we read the excel file with the network data and create a dictionary of datasets, one for each sheet. As we can see from the output of dfs.keys(), we now have five datasets: 'Nodes', 'Transformers', 'Generators', 'Lines' and 'Loads'."
   ]
  },
  {
   "cell_type": "code",
   "execution_count": 3,
   "id": "5858cd60",
   "metadata": {},
   "outputs": [
    {
     "data": {
      "text/plain": [
       "dict_keys(['Nodes', 'Transformers', 'Generators', 'Lines', 'Loads'])"
      ]
     },
     "execution_count": 3,
     "metadata": {},
     "output_type": "execute_result"
    }
   ],
   "source": [
    "path = \"network_data.xlsx\"\n",
    "xls = pd.ExcelFile(path)\n",
    "\n",
    "# Dictionary to hold DataFrames\n",
    "dfs = {}\n",
    "\n",
    "for sheet in xls.sheet_names:\n",
    "    dfs[sheet] = pd.read_excel(xls, sheet_name=sheet)\n",
    "\n",
    "# Display the keys to verify loading\n",
    "dfs.keys()"
   ]
  },
  {
   "cell_type": "markdown",
   "id": "9b283117",
   "metadata": {},
   "source": [
    "The next step is to properly define the base system, as well a the Fortescue matrix to use in later calculations. The base currents will be calculated based on the \"Nodes\" dataset, which presents the base voltages for each node of the system. Additionally, the base power is set to a fixed 100MVA.\n",
    "\n",
    "Apart from this, the Resistances and Reactances were combined into a single Impedance collumn in all the datasets for easier handling - and converted from Ohm to per-unit when necessary."
   ]
  },
  {
   "cell_type": "code",
   "execution_count": 4,
   "id": "e273f05c",
   "metadata": {},
   "outputs": [
    {
     "data": {
      "application/vnd.microsoft.datawrangler.viewer.v0+json": {
       "columns": [
        {
         "name": "index",
         "rawType": "int64",
         "type": "integer"
        },
        {
         "name": "Node ID Number",
         "rawType": "int64",
         "type": "integer"
        },
        {
         "name": "Base Voltage [V]",
         "rawType": "int64",
         "type": "integer"
        },
        {
         "name": "Base Current [pu]",
         "rawType": "float64",
         "type": "float"
        }
       ],
       "ref": "e54ebed3-3867-46f6-86c0-7de010ccb119",
       "rows": [
        [
         "0",
         "1",
         "150000",
         "384.9001794597505"
        ],
        [
         "1",
         "2",
         "150000",
         "384.9001794597505"
        ],
        [
         "2",
         "3",
         "150000",
         "384.9001794597505"
        ],
        [
         "3",
         "4",
         "150000",
         "384.9001794597505"
        ],
        [
         "4",
         "5",
         "150000",
         "384.9001794597505"
        ]
       ],
       "shape": {
        "columns": 3,
        "rows": 5
       }
      },
      "text/html": [
       "<div>\n",
       "<style scoped>\n",
       "    .dataframe tbody tr th:only-of-type {\n",
       "        vertical-align: middle;\n",
       "    }\n",
       "\n",
       "    .dataframe tbody tr th {\n",
       "        vertical-align: top;\n",
       "    }\n",
       "\n",
       "    .dataframe thead th {\n",
       "        text-align: right;\n",
       "    }\n",
       "</style>\n",
       "<table border=\"1\" class=\"dataframe\">\n",
       "  <thead>\n",
       "    <tr style=\"text-align: right;\">\n",
       "      <th></th>\n",
       "      <th>Node ID Number</th>\n",
       "      <th>Base Voltage [V]</th>\n",
       "      <th>Base Current [pu]</th>\n",
       "    </tr>\n",
       "  </thead>\n",
       "  <tbody>\n",
       "    <tr>\n",
       "      <th>0</th>\n",
       "      <td>1</td>\n",
       "      <td>150000</td>\n",
       "      <td>384.900179</td>\n",
       "    </tr>\n",
       "    <tr>\n",
       "      <th>1</th>\n",
       "      <td>2</td>\n",
       "      <td>150000</td>\n",
       "      <td>384.900179</td>\n",
       "    </tr>\n",
       "    <tr>\n",
       "      <th>2</th>\n",
       "      <td>3</td>\n",
       "      <td>150000</td>\n",
       "      <td>384.900179</td>\n",
       "    </tr>\n",
       "    <tr>\n",
       "      <th>3</th>\n",
       "      <td>4</td>\n",
       "      <td>150000</td>\n",
       "      <td>384.900179</td>\n",
       "    </tr>\n",
       "    <tr>\n",
       "      <th>4</th>\n",
       "      <td>5</td>\n",
       "      <td>150000</td>\n",
       "      <td>384.900179</td>\n",
       "    </tr>\n",
       "  </tbody>\n",
       "</table>\n",
       "</div>"
      ],
      "text/plain": [
       "   Node ID Number  Base Voltage [V]  Base Current [pu]\n",
       "0               1            150000         384.900179\n",
       "1               2            150000         384.900179\n",
       "2               3            150000         384.900179\n",
       "3               4            150000         384.900179\n",
       "4               5            150000         384.900179"
      ]
     },
     "execution_count": 4,
     "metadata": {},
     "output_type": "execute_result"
    }
   ],
   "source": [
    "# Define base system:\n",
    "\n",
    "# Base system\n",
    "Sb=100e6 # W (100 MVA)\n",
    "\n",
    "# Compute base current\n",
    "dfs[\"Nodes\"][\"Base Current [pu]\"] = Sb/(math.sqrt(3)*dfs[\"Nodes\"][\"Base Voltage [V]\"]) # A\n",
    "\n",
    "# Transformation matrix\n",
    "a=np.exp(2j*np.pi/3)\n",
    "A= np.array([[1,1,1],[1,a**2,a],[1,a,a**2]])\n",
    "\n",
    "# Maximum fault parameters\n",
    "tf_max= 2 # seconds\n",
    "Zf_max_ohm = 40 # Ohm\n",
    "Zf_max_pu = Zf_max_ohm/(dfs[\"Nodes\"][\"Base Voltage [V]\"]**2/Sb)\n",
    "\n",
    "# Compute the network impedances in pu\n",
    "\n",
    "# Convert to the correct base \n",
    "dfs[\"Transformers\"][\"Z [pu]\"] = (\n",
    "    (dfs[\"Transformers\"][\"R [pu]\"] + 1j * dfs[\"Transformers\"][\"X [pu]\"])\n",
    "    * (Sb / (dfs[\"Transformers\"][\"Power [MVA]\"] * 1e6))\n",
    ")\n",
    "\n",
    "dfs[\"Generators\"][\"Z [pu]\"] = (\n",
    "    (dfs[\"Generators\"][\"R [pu]\"] + 1j * dfs[\"Generators\"][\"X [pu]\"])\n",
    "    * (Sb / (dfs[\"Generators\"][\"Power [MVA]\"] * 1e6))\n",
    ")\n",
    "\n",
    "\n",
    "dfs[\"Lines\"][\"Z1 [ohm]\"] = dfs[\"Lines\"][\"R1 [ohm]\"] + dfs[\"Lines\"][\"X1 [ohm]\"]*1j\n",
    "dfs[\"Lines\"][\"Z0 [ohm]\"] = dfs[\"Lines\"][\"R0 [ohm]\"] + dfs[\"Lines\"][\"X0 [ohm]\"]*1j\n",
    "\n",
    "dfs[\"Lines\"][\"Z1 [pu]\"] = dfs[\"Lines\"][\"Z1 [ohm]\"]/(dfs[\"Lines\"][\"Voltage Level [V]\"]**2/Sb)\n",
    "dfs[\"Lines\"][\"Z0 [pu]\"] = dfs[\"Lines\"][\"Z0 [ohm]\"]/(dfs[\"Lines\"][\"Voltage Level [V]\"]**2/Sb)\n",
    "\n",
    "dfs[\"Nodes\"].head()"
   ]
  },
  {
   "cell_type": "markdown",
   "id": "295b13e8",
   "metadata": {},
   "source": [
    "We can now build our primitive Impedance and Admittance matrices. Since all the transformers in this system have Ynd windings, none of them outright blocks zero sequence current to flow into the Y winding. As such, they should all be included in the primitive zero sequence matrices, since they allow zero sequence current to flow to ground, and as such, represent an impedance in the zero sequence network.\n",
    "\n",
    "Aditionally, no loads were included since load current is usually negligible when performing short-circuit analysis at the grid level."
   ]
  },
  {
   "cell_type": "code",
   "execution_count": 5,
   "id": "caf04243",
   "metadata": {},
   "outputs": [],
   "source": [
    "# Primitive Impedance matrices\n",
    "# Created by placing the impedances of each element in the diagonal of a matrix, ordered lines - generators - transformers\n",
    "\n",
    "Zprim1 = np.diag(\n",
    "    dfs[\"Lines\"][\"Z1 [pu]\"].tolist()\n",
    "    + dfs[\"Generators\"][\"Z [pu]\"].tolist()\n",
    "    + dfs[\"Transformers\"][\"Z [pu]\"].tolist()\n",
    ")\n",
    "\n",
    "Zprim0 = np.diag(\n",
    "    dfs[\"Lines\"][\"Z0 [pu]\"].tolist()\n",
    "    + dfs[\"Generators\"][\"Z [pu]\"].tolist()\n",
    "    + dfs[\"Transformers\"][\"Z [pu]\"].tolist()\n",
    ")\n",
    "\n",
    "# Primitive admittance matrices\n",
    "# Created by inverting the primitive impedance matrices, since [Y] = [Z]^-1\n",
    "\n",
    "Yprim1 = np.diag(1 / np.diag(Zprim1))\n",
    "Yprim0 = np.diag(1 / np.diag(Zprim0))\n"
   ]
  },
  {
   "cell_type": "code",
   "execution_count": 6,
   "id": "f9b070ad",
   "metadata": {},
   "outputs": [
    {
     "name": "stdout",
     "output_type": "stream",
     "text": [
      "All Zprim1 entries match C1 row order\n"
     ]
    }
   ],
   "source": [
    "# Check Lines\n",
    "line_Z = dfs[\"Lines\"][\"Z1 [pu]\"].tolist()\n",
    "for i, z in enumerate(line_Z):\n",
    "    assert Zprim1[i, i] == z, f\"Mismatch in line {i}\"\n",
    "\n",
    "# Check Generators\n",
    "gen_Z = dfs[\"Generators\"][\"Z [pu]\"].tolist()\n",
    "for i, z in enumerate(gen_Z):\n",
    "    idx = len(line_Z) + i\n",
    "    assert Zprim1[idx, idx] == z, f\"Mismatch in generator {i}\"\n",
    "\n",
    "# Check Transformers\n",
    "trafo_Z = dfs[\"Transformers\"][\"Z [pu]\"].tolist()\n",
    "for i, z in enumerate(trafo_Z):\n",
    "    idx = len(line_Z) + len(gen_Z) + i\n",
    "    assert Zprim1[idx, idx] == z, f\"Mismatch in transformer {i}\"\n",
    "\n",
    "print(\"All Zprim1 entries match C1 row order\")"
   ]
  },
  {
   "cell_type": "markdown",
   "id": "bf85a368",
   "metadata": {},
   "source": [
    "Now we must create the constrain matrices for the zero and positive sequence. These matrices will have a dimmension of 12x20 (number of nodes x number of branches). The main difference between the two sequences will be that, for the zero sequence, the generator will not be connected to the transformers (since it is connected via a delta winding).\n",
    "\n",
    "Aditionally, I have defined the currents to always flow from the lowest number node to the highest number node.\n",
    "\n",
    "Since the positive sequence network has the exact same topology as the actual network, we can simply grab the node connections in our datasets to build the constrain matrix:"
   ]
  },
  {
   "cell_type": "code",
   "execution_count": 7,
   "id": "ab148363",
   "metadata": {},
   "outputs": [
    {
     "name": "stdout",
     "output_type": "stream",
     "text": [
      "[[-1  1  0  0  0  0  0  0  0  0  0  0]\n",
      " [-1  0  0  1  0  0  0  0  0  0  0  0]\n",
      " [-1  0  0  0  1  0  0  0  0  0  0  0]\n",
      " [ 0 -1  1  0  0  0  0  0  0  0  0  0]\n",
      " [ 0 -1  0  1  0  0  0  0  0  0  0  0]\n",
      " [ 0 -1  0  0  1  0  0  0  0  0  0  0]\n",
      " [ 0 -1  0  0  0  1  0  0  0  0  0  0]\n",
      " [ 0  0 -1  0  1  0  0  0  0  0  0  0]\n",
      " [ 0  0 -1  0  0  1  0  0  0  0  0  0]\n",
      " [ 0  0  0 -1  1  0  0  0  0  0  0  0]\n",
      " [ 0  0  0  0 -1  1  0  0  0  0  0  0]\n",
      " [ 0  0 -1  0  0  0  1  0  0  0  0  0]\n",
      " [ 0  0  0  0 -1  0  0  1  0  0  0  0]\n",
      " [ 0  0  0  0  0  0  0 -1  1  0  0  0]\n",
      " [ 0  0  0  0  0  0  0  0  0  1  0  0]\n",
      " [ 0  0  0  0  0  0  0  0  0  0  1  0]\n",
      " [ 0  0  0  0  0  0  0  0  0  0  0  1]\n",
      " [-1  0  0  0  0  0  0  0  0  1  0  0]\n",
      " [ 0 -1  0  0  0  0  0  0  0  0  1  0]\n",
      " [ 0  0  0  0  0  0 -1  0  0  0  0  1]]\n"
     ]
    }
   ],
   "source": [
    "# Construct the positive sequence constrain matrix C1\n",
    "C1 = np.zeros((20, 12), dtype=int)  # 20 branches, 12 nodes\n",
    "\n",
    "# Lines\n",
    "for branch_idx, row in dfs[\"Lines\"].iterrows():\n",
    "    node_a = int(row[\"Node A\"]) - 1  # 0-based indexing\n",
    "    node_b = int(row[\"Node B\"]) - 1\n",
    "\n",
    "    C1[branch_idx, node_a] = -1\n",
    "    C1[branch_idx, node_b] =  1\n",
    "\n",
    "# Generators\n",
    "start_row = len(dfs[\"Lines\"])  # where generator rows begin\n",
    "for gen_idx, row in dfs[\"Generators\"].iterrows():\n",
    "    node = int(row[\"Connecting Nodes\"]) - 1\n",
    "    row_idx = start_row + gen_idx\n",
    "    C1[row_idx, node] = 1\n",
    "\n",
    "# Transformers\n",
    "start_row += len(dfs[\"Generators\"])\n",
    "for trafo_idx, row in dfs[\"Transformers\"].iterrows():\n",
    "    node_h = int(row[\"Node H\"]) - 1\n",
    "    node_x = int(row[\"Node X\"]) - 1\n",
    "    row_idx = start_row + trafo_idx\n",
    "    C1[row_idx, node_h] = -1\n",
    "    C1[row_idx, node_x] =  1\n",
    "\n",
    "print(C1)\n"
   ]
  },
  {
   "cell_type": "markdown",
   "id": "94dd1150",
   "metadata": {},
   "source": [
    "Now for the negative sequence, we have to keep in mind that the transformers are connected to neutral instead of the node on the delta side, which for this case is always the node on collumn \"Node X\". Aditionally, to keep the convention set that current always flows from low node to high node, and assuming the neutral is node 0, I considered that the \"Node H\" column now inputted a 1 instead of a -1. We can construct the constrain matrix the same way:"
   ]
  },
  {
   "cell_type": "code",
   "execution_count": 8,
   "id": "5cd0ca34",
   "metadata": {},
   "outputs": [
    {
     "name": "stdout",
     "output_type": "stream",
     "text": [
      "[[-1  1  0  0  0  0  0  0  0  0  0  0]\n",
      " [-1  0  0  1  0  0  0  0  0  0  0  0]\n",
      " [-1  0  0  0  1  0  0  0  0  0  0  0]\n",
      " [ 0 -1  1  0  0  0  0  0  0  0  0  0]\n",
      " [ 0 -1  0  1  0  0  0  0  0  0  0  0]\n",
      " [ 0 -1  0  0  1  0  0  0  0  0  0  0]\n",
      " [ 0 -1  0  0  0  1  0  0  0  0  0  0]\n",
      " [ 0  0 -1  0  1  0  0  0  0  0  0  0]\n",
      " [ 0  0 -1  0  0  1  0  0  0  0  0  0]\n",
      " [ 0  0  0 -1  1  0  0  0  0  0  0  0]\n",
      " [ 0  0  0  0 -1  1  0  0  0  0  0  0]\n",
      " [ 0  0 -1  0  0  0  1  0  0  0  0  0]\n",
      " [ 0  0  0  0 -1  0  0  1  0  0  0  0]\n",
      " [ 0  0  0  0  0  0  0 -1  1  0  0  0]\n",
      " [ 0  0  0  0  0  0  0  0  0  1  0  0]\n",
      " [ 0  0  0  0  0  0  0  0  0  0  1  0]\n",
      " [ 0  0  0  0  0  0  0  0  0  0  0  1]\n",
      " [ 1  0  0  0  0  0  0  0  0  0  0  0]\n",
      " [ 0  1  0  0  0  0  0  0  0  0  0  0]\n",
      " [ 0  0  0  0  0  0  1  0  0  0  0  0]]\n"
     ]
    }
   ],
   "source": [
    "# Construct the positive sequence constrain matrix C0\n",
    "C0 = np.zeros((20, 12), dtype=int)  # 20 branches, 12 nodes\n",
    "\n",
    "# Lines\n",
    "for branch_idx, row in dfs[\"Lines\"].iterrows():\n",
    "    node_a = int(row[\"Node A\"]) - 1  # 0-based indexing\n",
    "    node_b = int(row[\"Node B\"]) - 1\n",
    "\n",
    "    C0[branch_idx, node_a] = -1\n",
    "    C0[branch_idx, node_b] =  1\n",
    "\n",
    "# Generators\n",
    "start_row = len(dfs[\"Lines\"])  # where generator rows begin\n",
    "for gen_idx, row in dfs[\"Generators\"].iterrows():\n",
    "    node = int(row[\"Connecting Nodes\"]) - 1\n",
    "    row_idx = start_row + gen_idx\n",
    "    C0[row_idx, node] = 1\n",
    "\n",
    "# Transformers\n",
    "start_row += len(dfs[\"Generators\"])\n",
    "for trafo_idx, row in dfs[\"Transformers\"].iterrows():\n",
    "    node_h = int(row[\"Node H\"]) - 1\n",
    "    row_idx = start_row + trafo_idx\n",
    "    C0[row_idx, node_h] = 1\n",
    "\n",
    "\n",
    "print(C0)"
   ]
  },
  {
   "cell_type": "markdown",
   "id": "488fd3f0",
   "metadata": {},
   "source": [
    "We now have everything needed to compute the node impedance and admittance matrices, using the following equations:\n",
    "$$\n",
    "[\\overline{Y}] = [K]^{t}[\\overline{y}][K]\n",
    "$$\n",
    "\n",
    "$$\n",
    "[\\overline{Z}]^{-1} = [\\overline{Y}]\n",
    "$$"
   ]
  },
  {
   "cell_type": "code",
   "execution_count": 9,
   "id": "186ffbfb",
   "metadata": {},
   "outputs": [],
   "source": [
    "# Positive Sequence Node Admittance Matrix Computation\n",
    "Y1 = C1.T @ Yprim1 @ C1\n",
    "\n",
    "# Zero Sequence Node Admittance Matrix Computation\n",
    "Y0 = C0.T @ Yprim0 @ C0\n",
    "\n",
    "# Node Impedance Matrices\n",
    "Z1 = np.linalg.inv(Y1)\n",
    "Z0 = np.linalg.inv(Y0)"
   ]
  },
  {
   "cell_type": "markdown",
   "id": "a7b311d2",
   "metadata": {},
   "source": [
    "\n",
    "## Three Phase Fault\n",
    "\n",
    "For a three phase fault, we have equation to calculate the fault current at each node:\n",
    "$$\n",
    "\\overline{I}_{1-\\Delta k} = \\frac{\\overline{V}_{1 - pF}}{\\overline{Z}_{1-kk}}\n",
    "$$\n",
    "\n",
    "Which, since $\\overline{V}_{1 - pF}$ is always 1 in per-unit, becomes:\n",
    "\n",
    "$$\n",
    "\\overline{I}_{1-\\Delta k} = \\overline{Z}_{1-kk}^{-1}\n",
    "$$\n",
    "\n",
    "Additionally, it's important to state that for a three phase fault, the current in all 3 phases (a, b, c) is the same and equal to the positive sequence current."
   ]
  },
  {
   "cell_type": "code",
   "execution_count": 10,
   "id": "fc672be1",
   "metadata": {},
   "outputs": [
    {
     "name": "stdout",
     "output_type": "stream",
     "text": [
      "          Irms[A]  Phase[deg]  Tp[ms]\n",
      "0    11788.874807  -88.557393    20.0\n",
      "1     7503.513068  -86.882959    20.0\n",
      "2     3811.124382  -84.475169    20.0\n",
      "3     3386.384354  -83.850010    20.0\n",
      "4     3031.226361  -84.111723    20.0\n",
      "5     2809.664976  -84.814497    20.0\n",
      "6     5933.812672  -87.511855    20.0\n",
      "7      934.832680  -83.581849    20.0\n",
      "8      695.571713  -84.248634    20.0\n",
      "9   273501.964859  -89.455551    20.0\n",
      "10  108890.328803  -88.579907    20.0\n",
      "11  138384.913965  -89.255281    20.0\n"
     ]
    }
   ],
   "source": [
    "Zkk_TP = np.diag(Z1)              # self-impedances\n",
    "If_pu_TP = 1 / Zkk_TP              # fault currents in pu\n",
    "\n",
    "# Convert from pu to A and to \n",
    "If_A_TP = If_pu_TP * dfs[\"Nodes\"][\"Base Current [pu]\"]\n",
    "\n",
    "# Convert to RMS magnitude\n",
    "I_rms = np.abs(If_A_TP) / np.sqrt(2)\n",
    "\n",
    "# Convert to phase angle in degrees\n",
    "I_deg = np.angle(If_A_TP, deg=True)\n",
    "\n",
    "# Assume Tp (peak time) = 1 / 50Hz * 1000 ms for one cycle as placeholder\n",
    "# Or you can set your actual Tp values\n",
    "Tp_ms = np.full(I_rms.shape, 20.0)  # 50 Hz system -> 20 ms per cycle\n",
    "\n",
    "# Combine into a DataFrame\n",
    "df_fault = pd.DataFrame({\n",
    "    \"Irms[A]\": I_rms,\n",
    "    \"Phase[deg]\": I_deg,\n",
    "    \"Tp[ms]\": Tp_ms\n",
    "})\n",
    "\n",
    "\n",
    "\n",
    "print(df_fault)"
   ]
  },
  {
   "cell_type": "code",
   "execution_count": 11,
   "id": "c7c4b4da",
   "metadata": {},
   "outputs": [
    {
     "name": "stdout",
     "output_type": "stream",
     "text": [
      "Node self-impedance: (0.000581219574228063+0.023079324122508613j)\n",
      "Fault current in pu: (1.0904825287404507-43.30136293871313j)\n",
      "Fault current in A: (419.726921009922-16666.702365962476j)\n"
     ]
    }
   ],
   "source": [
    "node = 0  # example node index\n",
    "Zself = Z1[node, node]\n",
    "print(\"Node self-impedance:\", Zself)\n",
    "I_fault = 1.0 / Zself  # pu assuming V_prefault = 1 pu\n",
    "print(\"Fault current in pu:\", I_fault)\n",
    "I_fault_A = I_fault * dfs[\"Nodes\"].loc[node, \"Base Current [pu]\"]\n",
    "print(\"Fault current in A:\", I_fault_A)"
   ]
  },
  {
   "cell_type": "markdown",
   "id": "2991f916",
   "metadata": {},
   "source": [
    "## Single Line to Ground Fault\n",
    "\n",
    "$$\\bar{I}_{0-\\Delta k} = \\bar{I}_{1-\\Delta k} = \\bar{I}_{2-\\Delta k} = \\frac{\\bar{V}_{1-pF}}{\\bar{Z}_{0-kk} + \\bar{Z}_{1-kk} + \\bar{Z}_{2-kk} + 3R_f} = \\frac{\\bar{V}_{1-pF}}{\\bar{Z}_T}$$"
   ]
  },
  {
   "cell_type": "code",
   "execution_count": 14,
   "id": "cf274f98",
   "metadata": {},
   "outputs": [
    {
     "name": "stdout",
     "output_type": "stream",
     "text": [
      "    Node Phase       Irms[A]  Phase[deg]  Irms_zero[A]  Phase_zero[deg]\n",
      "0      0     A  5.060544e+02   -6.070470  4.783716e+03       -88.519828\n",
      "1      0     B  5.631390e-14  107.308253  5.862404e-13        14.121845\n",
      "2      0     C  6.757473e-14   97.241046  6.403519e-13        20.468068\n",
      "3      1     A  4.981631e+02   -9.758790  2.934557e+03       -86.848118\n",
      "4      1     B  6.278654e-14   95.134722  3.687035e-13        19.436775\n",
      "5      1     C  6.064935e-14   93.000906  3.024642e-13        20.187621\n",
      "6      2     A  4.244490e+02  -27.885030  9.019386e+02       -83.638691\n",
      "7      2     B  4.783048e-14   80.644985  1.145148e-13        22.738651\n",
      "8      2     C  4.827383e-14   77.494549  1.196686e-13        24.889674\n",
      "9      3     A  4.053363e+02  -30.996548  7.812746e+02       -83.035916\n",
      "10     3     B  5.095828e-14   85.367061  7.867749e-14        26.096692\n",
      "11     3     C  4.867010e-14   70.466951  9.649851e-14        21.153825\n",
      "12     4     A  3.865653e+02  -34.770098  6.736255e+02       -83.603062\n",
      "13     4     B  4.763203e-14   83.496112  7.172054e-14        33.774598\n",
      "14     4     C  4.702254e-14   81.034017  9.999137e-14        25.848656\n",
      "15     5     A  3.794083e+02  -36.675207  6.321987e+02       -84.401414\n",
      "16     5     B  4.762666e-14   70.948011  6.573796e-14        18.362087\n",
      "17     5     C  4.825406e-14   79.946881  9.229267e-14        23.716691\n",
      "18     6     A  4.941315e+02  -12.004796  2.373055e+03       -87.293014\n",
      "19     6     B  6.278899e-14   93.720952  2.390243e-13        19.039908\n",
      "20     6     C  6.032348e-14   92.281415  2.924166e-13        22.698602\n",
      "21     7     A  1.739764e+02  -63.623057  1.929143e+02       -83.419314\n",
      "22     7     B  1.804401e-14   40.870871  1.899400e-14        26.384596\n",
      "23     7     C  2.020561e-14   48.496827  2.453691e-14        20.667196\n",
      "24     8     A  1.336612e+02  -69.041363  1.423840e+02       -84.144338\n",
      "25     8     B  1.690026e-14   42.230796  1.596389e-14        22.877079\n",
      "26     8     C  1.596411e-14   32.767652  1.676607e-14        26.852225\n",
      "27     9     A  3.402061e+01   -0.022167  8.793338e+04       -89.649912\n",
      "28     9     B  4.307506e-15  103.721398  1.062723e-11        17.690558\n",
      "29     9     C  4.540944e-15  108.156058  9.619864e-12        15.540047\n",
      "30    10     A  4.422597e+01   -0.077907  3.252206e+04       -89.151783\n",
      "31    10     B  5.716340e-15  102.717355  4.107033e-12        19.298584\n",
      "32    10     C  4.951912e-15  104.889951  3.519795e-12        14.602559\n",
      "33    11     A  3.402046e+01   -0.044084  4.421459e+04       -89.524126\n",
      "34    11     B  4.167707e-15  104.168980  5.225360e-12        17.812469\n",
      "35    11     C  3.571071e-15  113.324903  4.926865e-12        15.600339\n"
     ]
    }
   ],
   "source": [
    "# Fault current with Zf_max_pu\n",
    "ZT_SLG = np.diag(Z1) + np.diag(Z1) + np.diag(Z0) + 3*Zf_max_pu\n",
    "If_pu_SLG = 1.0 / ZT_SLG  # pu assuming V_prefault = 1 pu\n",
    "\n",
    "# Fault current with zero fault impedance (bolted fault)\n",
    "ZT_SLG_zero = np.diag(Z1) + np.diag(Z1) + np.diag(Z0)  # remove fault impedance\n",
    "If_pu_SLG_zero = 1.0 / ZT_SLG_zero  # pu\n",
    "\n",
    "# Base currents\n",
    "I_base = dfs[\"Nodes\"][\"Base Current [pu]\"].values  # A\n",
    "\n",
    "# Symmetrical components transformation\n",
    "a = np.exp(2j * np.pi / 3)\n",
    "A = np.array([[1, 1, 1],\n",
    "              [1, a**2, a],\n",
    "              [1, a, a**2]])\n",
    "\n",
    "# Stack I0, I1, I2 for each node\n",
    "I_seq = np.vstack([If_pu_SLG, If_pu_SLG, If_pu_SLG])         # SLG with Zf\n",
    "I_seq_zero = np.vstack([If_pu_SLG_zero, If_pu_SLG_zero, If_pu_SLG_zero])  # bolted fault\n",
    "\n",
    "# Phase currents in pu\n",
    "I_abc_pu = (A @ I_seq) / 3\n",
    "I_abc_pu_zero = (A @ I_seq_zero) / 3\n",
    "\n",
    "# Convert to Amperes\n",
    "I_abc_A = I_abc_pu * I_base\n",
    "I_abc_A_zero = I_abc_pu_zero * I_base\n",
    "\n",
    "# Compute RMS and phase angle\n",
    "I_abc_rms = np.abs(I_abc_A) / np.sqrt(2)\n",
    "I_abc_rms_zero = np.abs(I_abc_A_zero) / np.sqrt(2)\n",
    "\n",
    "I_abc_angle = np.angle(I_abc_A, deg=True)\n",
    "I_abc_angle_zero = np.angle(I_abc_A_zero, deg=True)\n",
    "\n",
    "# Build DataFrame\n",
    "n_nodes = I_abc_A.shape[1]\n",
    "df_SLG = pd.DataFrame({\n",
    "    \"Node\": np.repeat(np.arange(n_nodes), 3),\n",
    "    \"Phase\": np.tile([\"A\", \"B\", \"C\"], n_nodes),\n",
    "    \"Irms[A]\": I_abc_rms.T.flatten(),\n",
    "    \"Phase[deg]\": I_abc_angle.T.flatten(),\n",
    "    \"Irms_zero[A]\": I_abc_rms_zero.T.flatten(),\n",
    "    \"Phase_zero[deg]\": I_abc_angle_zero.T.flatten()\n",
    "})\n",
    "\n",
    "print(df_SLG)\n"
   ]
  }
 ],
 "metadata": {
  "kernelspec": {
   "display_name": "Python 3",
   "language": "python",
   "name": "python3"
  },
  "language_info": {
   "codemirror_mode": {
    "name": "ipython",
    "version": 3
   },
   "file_extension": ".py",
   "mimetype": "text/x-python",
   "name": "python",
   "nbconvert_exporter": "python",
   "pygments_lexer": "ipython3",
   "version": "3.11.0"
  }
 },
 "nbformat": 4,
 "nbformat_minor": 5
}
