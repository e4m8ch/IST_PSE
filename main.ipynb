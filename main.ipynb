{
 "cells": [
  {
   "cell_type": "markdown",
   "id": "49b51ea2",
   "metadata": {},
   "source": [
    "# Power System Analysis 2025/26 @ IST Work assessment\n"
   ]
  },
  {
   "cell_type": "markdown",
   "id": "cd007601",
   "metadata": {},
   "source": [
    "## Question 1."
   ]
  },
  {
   "cell_type": "code",
   "execution_count": 58,
   "id": "9896cb09",
   "metadata": {},
   "outputs": [],
   "source": [
    "import math\n",
    "import numpy as np\n",
    "import matplotlib.pyplot as plt\n",
    "import pandas as pd"
   ]
  },
  {
   "cell_type": "markdown",
   "id": "bf69c3eb",
   "metadata": {},
   "source": [
    "First, we read the excel file with the network data and create a dictionary of datasets, one for each sheet. As we can see from the output of dfs.keys(), we now have five datasets: 'Nodes', 'Transformers', 'Generators', 'Lines' and 'Loads'."
   ]
  },
  {
   "cell_type": "code",
   "execution_count": 59,
   "id": "5858cd60",
   "metadata": {},
   "outputs": [
    {
     "data": {
      "text/plain": [
       "dict_keys(['Nodes', 'Transformers', 'Generators', 'Lines', 'Loads'])"
      ]
     },
     "execution_count": 59,
     "metadata": {},
     "output_type": "execute_result"
    }
   ],
   "source": [
    "path = \"network_data.xlsx\"\n",
    "xls = pd.ExcelFile(path)\n",
    "\n",
    "# Dictionary to hold DataFrames\n",
    "dfs = {}\n",
    "\n",
    "for sheet in xls.sheet_names:\n",
    "    dfs[sheet] = pd.read_excel(xls, sheet_name=sheet)\n",
    "\n",
    "# Display the keys to verify loading\n",
    "dfs.keys()"
   ]
  },
  {
   "cell_type": "markdown",
   "id": "9b283117",
   "metadata": {},
   "source": [
    "The next step is to properly define the base system, as well a the Fortescue matrix to use in later calculations. The base currents will be calculated based on the \"Nodes\" dataset, which presents the base voltages for each node of the system. Additionally, the base power is set to a fixed 100MVA.\n",
    "\n",
    "Apart from this, the Resistances and Reactances were combined into a single Impedance collumn in all the datasets for easier handling - and converted from Ohm to per-unit when necessary."
   ]
  },
  {
   "cell_type": "code",
   "execution_count": 60,
   "id": "e273f05c",
   "metadata": {},
   "outputs": [
    {
     "data": {
      "application/vnd.microsoft.datawrangler.viewer.v0+json": {
       "columns": [
        {
         "name": "index",
         "rawType": "int64",
         "type": "integer"
        },
        {
         "name": "Node ID Number",
         "rawType": "int64",
         "type": "integer"
        },
        {
         "name": "Base Voltage [V]",
         "rawType": "int64",
         "type": "integer"
        },
        {
         "name": "Base Current [pu]",
         "rawType": "float64",
         "type": "float"
        }
       ],
       "ref": "926b05b5-e7be-4ebc-9ad3-823fcd50fcac",
       "rows": [
        [
         "0",
         "1",
         "150000",
         "384.9001794597505"
        ],
        [
         "1",
         "2",
         "150000",
         "384.9001794597505"
        ],
        [
         "2",
         "3",
         "150000",
         "384.9001794597505"
        ],
        [
         "3",
         "4",
         "150000",
         "384.9001794597505"
        ],
        [
         "4",
         "5",
         "150000",
         "384.9001794597505"
        ],
        [
         "5",
         "6",
         "150000",
         "384.9001794597505"
        ],
        [
         "6",
         "7",
         "150000",
         "384.9001794597505"
        ],
        [
         "7",
         "8",
         "150000",
         "384.9001794597505"
        ],
        [
         "8",
         "9",
         "150000",
         "384.9001794597505"
        ],
        [
         "9",
         "10",
         "10000",
         "5773.502691896258"
        ],
        [
         "10",
         "11",
         "13000",
         "4441.155916843276"
        ],
        [
         "11",
         "12",
         "10000",
         "5773.502691896258"
        ]
       ],
       "shape": {
        "columns": 3,
        "rows": 12
       }
      },
      "text/html": [
       "<div>\n",
       "<style scoped>\n",
       "    .dataframe tbody tr th:only-of-type {\n",
       "        vertical-align: middle;\n",
       "    }\n",
       "\n",
       "    .dataframe tbody tr th {\n",
       "        vertical-align: top;\n",
       "    }\n",
       "\n",
       "    .dataframe thead th {\n",
       "        text-align: right;\n",
       "    }\n",
       "</style>\n",
       "<table border=\"1\" class=\"dataframe\">\n",
       "  <thead>\n",
       "    <tr style=\"text-align: right;\">\n",
       "      <th></th>\n",
       "      <th>Node ID Number</th>\n",
       "      <th>Base Voltage [V]</th>\n",
       "      <th>Base Current [pu]</th>\n",
       "    </tr>\n",
       "  </thead>\n",
       "  <tbody>\n",
       "    <tr>\n",
       "      <th>0</th>\n",
       "      <td>1</td>\n",
       "      <td>150000</td>\n",
       "      <td>384.900179</td>\n",
       "    </tr>\n",
       "    <tr>\n",
       "      <th>1</th>\n",
       "      <td>2</td>\n",
       "      <td>150000</td>\n",
       "      <td>384.900179</td>\n",
       "    </tr>\n",
       "    <tr>\n",
       "      <th>2</th>\n",
       "      <td>3</td>\n",
       "      <td>150000</td>\n",
       "      <td>384.900179</td>\n",
       "    </tr>\n",
       "    <tr>\n",
       "      <th>3</th>\n",
       "      <td>4</td>\n",
       "      <td>150000</td>\n",
       "      <td>384.900179</td>\n",
       "    </tr>\n",
       "    <tr>\n",
       "      <th>4</th>\n",
       "      <td>5</td>\n",
       "      <td>150000</td>\n",
       "      <td>384.900179</td>\n",
       "    </tr>\n",
       "    <tr>\n",
       "      <th>5</th>\n",
       "      <td>6</td>\n",
       "      <td>150000</td>\n",
       "      <td>384.900179</td>\n",
       "    </tr>\n",
       "    <tr>\n",
       "      <th>6</th>\n",
       "      <td>7</td>\n",
       "      <td>150000</td>\n",
       "      <td>384.900179</td>\n",
       "    </tr>\n",
       "    <tr>\n",
       "      <th>7</th>\n",
       "      <td>8</td>\n",
       "      <td>150000</td>\n",
       "      <td>384.900179</td>\n",
       "    </tr>\n",
       "    <tr>\n",
       "      <th>8</th>\n",
       "      <td>9</td>\n",
       "      <td>150000</td>\n",
       "      <td>384.900179</td>\n",
       "    </tr>\n",
       "    <tr>\n",
       "      <th>9</th>\n",
       "      <td>10</td>\n",
       "      <td>10000</td>\n",
       "      <td>5773.502692</td>\n",
       "    </tr>\n",
       "    <tr>\n",
       "      <th>10</th>\n",
       "      <td>11</td>\n",
       "      <td>13000</td>\n",
       "      <td>4441.155917</td>\n",
       "    </tr>\n",
       "    <tr>\n",
       "      <th>11</th>\n",
       "      <td>12</td>\n",
       "      <td>10000</td>\n",
       "      <td>5773.502692</td>\n",
       "    </tr>\n",
       "  </tbody>\n",
       "</table>\n",
       "</div>"
      ],
      "text/plain": [
       "    Node ID Number  Base Voltage [V]  Base Current [pu]\n",
       "0                1            150000         384.900179\n",
       "1                2            150000         384.900179\n",
       "2                3            150000         384.900179\n",
       "3                4            150000         384.900179\n",
       "4                5            150000         384.900179\n",
       "5                6            150000         384.900179\n",
       "6                7            150000         384.900179\n",
       "7                8            150000         384.900179\n",
       "8                9            150000         384.900179\n",
       "9               10             10000        5773.502692\n",
       "10              11             13000        4441.155917\n",
       "11              12             10000        5773.502692"
      ]
     },
     "execution_count": 60,
     "metadata": {},
     "output_type": "execute_result"
    }
   ],
   "source": [
    "# Define base system:\n",
    "\n",
    "f = 50 # Hz\n",
    "\n",
    "# Base system\n",
    "Sb=100e6 # W (100 MVA)\n",
    "\n",
    "# Compute base current\n",
    "dfs[\"Nodes\"][\"Base Current [pu]\"] = Sb/(math.sqrt(3)*dfs[\"Nodes\"][\"Base Voltage [V]\"]) # A\n",
    "\n",
    "# Transformation matrix\n",
    "a = np.exp(2j * np.pi / 3)\n",
    "A = np.array([[1, 1, 1],\n",
    "              [1, a**2, a],\n",
    "              [1, a, a**2]])\n",
    "\n",
    "Z_base = (dfs[\"Nodes\"][\"Base Voltage [V]\"]**2)/Sb # Ohm\n",
    "\n",
    "# Maximum fault parameters\n",
    "tf_max = 2 # seconds\n",
    "Zf_max_ohm = 40 # Ohm\n",
    "Zf_max_pu = Zf_max_ohm/Z_base # pu\n",
    "\n",
    "# Compute the network impedances in pu\n",
    "\n",
    "# Convert to the correct base \n",
    "dfs[\"Transformers\"][\"Z [pu]\"] = (\n",
    "    (dfs[\"Transformers\"][\"R [pu]\"] + 1j * dfs[\"Transformers\"][\"X [pu]\"])\n",
    "    * (Sb / (dfs[\"Transformers\"][\"Power [MVA]\"] * 1e6))\n",
    ")\n",
    "\n",
    "dfs[\"Generators\"][\"Z [pu]\"] = (\n",
    "    (dfs[\"Generators\"][\"R [pu]\"] + 1j * dfs[\"Generators\"][\"X [pu]\"])\n",
    "    * (Sb / (dfs[\"Generators\"][\"Power [MVA]\"] * 1e6))\n",
    ")\n",
    "\n",
    "\n",
    "dfs[\"Lines\"][\"Z1 [ohm]\"] = dfs[\"Lines\"][\"R1 [ohm]\"] + dfs[\"Lines\"][\"X1 [ohm]\"]*1j\n",
    "dfs[\"Lines\"][\"Z0 [ohm]\"] = dfs[\"Lines\"][\"R0 [ohm]\"] + dfs[\"Lines\"][\"X0 [ohm]\"]*1j\n",
    "\n",
    "dfs[\"Lines\"][\"Z1 [pu]\"] = dfs[\"Lines\"][\"Z1 [ohm]\"]/(dfs[\"Lines\"][\"Voltage Level [V]\"]**2/Sb)\n",
    "dfs[\"Lines\"][\"Z0 [pu]\"] = dfs[\"Lines\"][\"Z0 [ohm]\"]/(dfs[\"Lines\"][\"Voltage Level [V]\"]**2/Sb)\n",
    "\n",
    "dfs[\"Nodes\"]"
   ]
  },
  {
   "cell_type": "markdown",
   "id": "295b13e8",
   "metadata": {},
   "source": [
    "We can now build our primitive Impedance and Admittance matrices. Since all the transformers in this system have Ynd windings, none of them outright blocks zero sequence current to flow into the Y winding. As such, they should all be included in the primitive zero sequence matrices, since they allow zero sequence current to flow to ground, and as such, represent an impedance in the zero sequence network.\n",
    "\n",
    "Aditionally, no loads were included since load current is usually negligible when performing short-circuit analysis at the grid level."
   ]
  },
  {
   "cell_type": "code",
   "execution_count": 61,
   "id": "caf04243",
   "metadata": {},
   "outputs": [],
   "source": [
    "# Primitive Impedance matrices\n",
    "# Created by placing the impedances of each element in the diagonal of a matrix, ordered lines - generators - transformers\n",
    "\n",
    "Zprim1 = np.diag(\n",
    "    dfs[\"Lines\"][\"Z1 [pu]\"].tolist()\n",
    "    + dfs[\"Transformers\"][\"Z [pu]\"].tolist()\n",
    "    + dfs[\"Generators\"][\"Z [pu]\"].tolist()\n",
    ")\n",
    "\n",
    "Zprim0 = np.diag(\n",
    "    dfs[\"Lines\"][\"Z0 [pu]\"].tolist()\n",
    "    + dfs[\"Transformers\"][\"Z [pu]\"].tolist()\n",
    ")\n",
    "\n",
    "# Primitive admittance matrices\n",
    "# Created by inverting the primitive impedance matrices, since [Y] = [Z]^-1\n",
    "\n",
    "Yprim1 = np.diag(1 / np.diag(Zprim1))\n",
    "Yprim0 = np.diag(1 / np.diag(Zprim0))"
   ]
  },
  {
   "cell_type": "code",
   "execution_count": 62,
   "id": "f9b070ad",
   "metadata": {},
   "outputs": [
    {
     "name": "stdout",
     "output_type": "stream",
     "text": [
      "All Zprim1 entries match C1 row order\n"
     ]
    }
   ],
   "source": [
    "# Check Lines\n",
    "line_Z = dfs[\"Lines\"][\"Z1 [pu]\"].tolist()\n",
    "for i, z in enumerate(line_Z):\n",
    "    assert Zprim1[i, i] == z, f\"Mismatch in line {i}\"\n",
    "\n",
    "# Check Transformers\n",
    "trafo_Z = dfs[\"Transformers\"][\"Z [pu]\"].tolist()\n",
    "for i, z in enumerate(trafo_Z):\n",
    "    idx = len(line_Z) + i\n",
    "    assert Zprim1[idx, idx] == z, f\"Mismatch in transformer {i}\"\n",
    "\n",
    "# Check Generators\n",
    "gen_Z = dfs[\"Generators\"][\"Z [pu]\"].tolist()\n",
    "for i, z in enumerate(gen_Z):\n",
    "    idx = len(line_Z) + len(trafo_Z) + i\n",
    "    assert Zprim1[idx, idx] == z, f\"Mismatch in generator {i}\"\n",
    "\n",
    "print(\"All Zprim1 entries match C1 row order\")"
   ]
  },
  {
   "cell_type": "markdown",
   "id": "bf85a368",
   "metadata": {},
   "source": [
    "Now we must create the constrain matrices for the zero and positive sequence. These matrices will have a dimmension of 12x20 (number of nodes x number of branches). The main difference between the two sequences will be that, for the zero sequence, the generator will not be connected to the transformers (since it is connected via a delta winding).\n",
    "\n",
    "Aditionally, I have defined the currents to always flow from the lowest number node to the highest number node.\n",
    "\n",
    "Since the positive sequence network has the exact same topology as the actual network, we can simply grab the node connections in our datasets to build the constrain matrix:"
   ]
  },
  {
   "cell_type": "code",
   "execution_count": 63,
   "id": "ab148363",
   "metadata": {},
   "outputs": [
    {
     "name": "stdout",
     "output_type": "stream",
     "text": [
      "[[-1  1  0  0  0  0  0  0  0  0  0  0]\n",
      " [-1  0  0  1  0  0  0  0  0  0  0  0]\n",
      " [-1  0  0  0  1  0  0  0  0  0  0  0]\n",
      " [ 0 -1  1  0  0  0  0  0  0  0  0  0]\n",
      " [ 0 -1  0  1  0  0  0  0  0  0  0  0]\n",
      " [ 0 -1  0  0  1  0  0  0  0  0  0  0]\n",
      " [ 0 -1  0  0  0  1  0  0  0  0  0  0]\n",
      " [ 0  0 -1  0  1  0  0  0  0  0  0  0]\n",
      " [ 0  0 -1  0  0  1  0  0  0  0  0  0]\n",
      " [ 0  0  0 -1  1  0  0  0  0  0  0  0]\n",
      " [ 0  0  0  0 -1  1  0  0  0  0  0  0]\n",
      " [ 0  0 -1  0  0  0  1  0  0  0  0  0]\n",
      " [ 0  0  0  0 -1  0  0  1  0  0  0  0]\n",
      " [ 0  0  0  0  0  0  0 -1  1  0  0  0]\n",
      " [-1  0  0  0  0  0  0  0  0  1  0  0]\n",
      " [ 0 -1  0  0  0  0  0  0  0  0  1  0]\n",
      " [ 0  0  0  0  0  0 -1  0  0  0  0  1]\n",
      " [ 0  0  0  0  0  0  0  0  0  1  0  0]\n",
      " [ 0  0  0  0  0  0  0  0  0  0  1  0]\n",
      " [ 0  0  0  0  0  0  0  0  0  0  0  1]]\n"
     ]
    }
   ],
   "source": [
    "# Construct the positive sequence constrain matrix C1\n",
    "C1 = np.zeros((20, 12), dtype=int)  # 20 branches, 12 nodes\n",
    "\n",
    "# Lines\n",
    "for branch_idx, row in dfs[\"Lines\"].iterrows():\n",
    "    node_a = int(row[\"Node A\"]) - 1  # 0-based indexing\n",
    "    node_b = int(row[\"Node B\"]) - 1\n",
    "\n",
    "    C1[branch_idx, node_a] = -1\n",
    "    C1[branch_idx, node_b] =  1\n",
    "\n",
    "# Generators\n",
    "start_row = len(dfs[\"Lines\"])  # where generator rows begin\n",
    "for trafo_idx, row in dfs[\"Transformers\"].iterrows():\n",
    "    node_h = int(row[\"Node H\"]) - 1\n",
    "    node_x = int(row[\"Node X\"]) - 1\n",
    "    row_idx = start_row + trafo_idx\n",
    "    C1[row_idx, node_h] = -1\n",
    "    C1[row_idx, node_x] =  1\n",
    "\n",
    "\n",
    "# Transformers\n",
    "start_row += len(dfs[\"Transformers\"])\n",
    "for gen_idx, row in dfs[\"Generators\"].iterrows():\n",
    "    node = int(row[\"Connecting Nodes\"]) - 1\n",
    "    row_idx = start_row + gen_idx\n",
    "    C1[row_idx, node] = 1\n",
    "\n",
    "\n",
    "print(C1)\n"
   ]
  },
  {
   "cell_type": "markdown",
   "id": "94dd1150",
   "metadata": {},
   "source": [
    "Now for the negative sequence, we have to keep in mind that the transformers are connected to neutral instead of the node on the delta side, which for this case is always the node on collumn \"Node X\". Aditionally, to keep the convention set that current always flows from low node to high node, and assuming the neutral is node 0, I considered that the \"Node H\" column now inputted a 1 instead of a -1. We can construct the constrain matrix the same way:"
   ]
  },
  {
   "cell_type": "code",
   "execution_count": 64,
   "id": "5cd0ca34",
   "metadata": {},
   "outputs": [
    {
     "name": "stdout",
     "output_type": "stream",
     "text": [
      "[[-1  1  0  0  0  0  0  0  0  0  0  0]\n",
      " [-1  0  0  1  0  0  0  0  0  0  0  0]\n",
      " [-1  0  0  0  1  0  0  0  0  0  0  0]\n",
      " [ 0 -1  1  0  0  0  0  0  0  0  0  0]\n",
      " [ 0 -1  0  1  0  0  0  0  0  0  0  0]\n",
      " [ 0 -1  0  0  1  0  0  0  0  0  0  0]\n",
      " [ 0 -1  0  0  0  1  0  0  0  0  0  0]\n",
      " [ 0  0 -1  0  1  0  0  0  0  0  0  0]\n",
      " [ 0  0 -1  0  0  1  0  0  0  0  0  0]\n",
      " [ 0  0  0 -1  1  0  0  0  0  0  0  0]\n",
      " [ 0  0  0  0 -1  1  0  0  0  0  0  0]\n",
      " [ 0  0 -1  0  0  0  1  0  0  0  0  0]\n",
      " [ 0  0  0  0 -1  0  0  1  0  0  0  0]\n",
      " [ 0  0  0  0  0  0  0 -1  1  0  0  0]\n",
      " [ 1  0  0  0  0  0  0  0  0  0  0  0]\n",
      " [ 0  1  0  0  0  0  0  0  0  0  0  0]\n",
      " [ 0  0  0  0  0  0  1  0  0  0  0  0]]\n"
     ]
    }
   ],
   "source": [
    "# Construct the positive sequence constrain matrix C0\n",
    "C0 = np.zeros((17, 12), dtype=int)  # 17 branches, 12 nodes\n",
    "\n",
    "# Lines\n",
    "for branch_idx, row in dfs[\"Lines\"].iterrows():\n",
    "    node_a = int(row[\"Node A\"]) - 1  # 0-based indexing\n",
    "    node_b = int(row[\"Node B\"]) - 1\n",
    "\n",
    "    C0[branch_idx, node_a] = -1\n",
    "    C0[branch_idx, node_b] =  1\n",
    "\n",
    "# Generators\n",
    "start_row = len(dfs[\"Lines\"])  # where generator rows begin\n",
    "for trafo_idx, row in dfs[\"Transformers\"].iterrows():\n",
    "    node_h = int(row[\"Node H\"]) - 1\n",
    "    row_idx = start_row + trafo_idx\n",
    "    C0[row_idx, node_h] = 1\n",
    "\n",
    "\n",
    "print(C0)"
   ]
  },
  {
   "cell_type": "markdown",
   "id": "488fd3f0",
   "metadata": {},
   "source": [
    "We now have everything needed to compute the node impedance and admittance matrices, using the following equations:\n",
    "$$\n",
    "[\\overline{Y}] = [K]^{t}[\\overline{y}][K]\n",
    "$$\n",
    "\n",
    "$$\n",
    "[\\overline{Z}]^{-1} = [\\overline{Y}]\n",
    "$$"
   ]
  },
  {
   "cell_type": "code",
   "execution_count": 65,
   "id": "186ffbfb",
   "metadata": {},
   "outputs": [],
   "source": [
    "# Positive Sequence Node Admittance Matrix Computation\n",
    "Y1 = C1.T @ Yprim1 @ C1\n",
    "\n",
    "# Zero Sequence Node Admittance Matrix Computation\n",
    "Y0 = C0.T @ Yprim0 @ C0\n",
    "\n",
    "# Node Impedance Matrices\n",
    "Z1 = np.linalg.inv(Y1)\n",
    "Z0 = np.linalg.pinv(Y0)"
   ]
  },
  {
   "cell_type": "markdown",
   "id": "a7b311d2",
   "metadata": {},
   "source": [
    "### Three Phase Fault\n",
    "\n",
    "For a three phase fault, we have equation to calculate the fault current at each node:\n",
    "$$\n",
    "\\overline{I}_{1-\\Delta k} = \\frac{\\overline{V}_{1 - pF}}{\\overline{Z}_{1-kk}}\n",
    "$$\n",
    "\n",
    "Which, since $\\overline{V}_{1 - pF}$ is always 1 in per-unit, becomes:\n",
    "\n",
    "$$\n",
    "\\overline{I}_{1-\\Delta k} = \\overline{Z}_{1-kk}^{-1}\n",
    "$$\n",
    "\n",
    "Additionally, it's important to state that for a three phase fault, the current in all 3 phases (a, b, c) is the same and equal to the positive sequence current."
   ]
  },
  {
   "cell_type": "code",
   "execution_count": null,
   "id": "fc672be1",
   "metadata": {},
   "outputs": [],
   "source": [
    "Zkk_TP = np.diag(Z1)              # self-impedances\n",
    "If_pu_TP = 1 / Zkk_TP              # fault currents in pu\n",
    "\n",
    "Tp_TP = np.where(Zkk_TP.real != 0, Zkk_TP.imag / Zkk_TP.real, np.nan)\n",
    "\n",
    "I_base = dfs[\"Nodes\"][\"Base Current [pu]\"].values\n",
    "\n",
    "I_seq = np.vstack([np.zeros_like(If_pu_TP), If_pu_TP, np.zeros_like(If_pu_TP)])\n",
    "\n",
    "# Phase currents in pu\n",
    "I_abc_pu = (A @ I_seq) / 3\n",
    "\n",
    "# Convert to Amperes\n",
    "I_abc_A = I_abc_pu * I_base\n",
    "\n",
    "# Compute RMS and phase angle\n",
    "I_abc_rms = np.abs(I_abc_A) / np.sqrt(2)\n",
    "\n",
    "I_abc_angle = np.angle(I_abc_A, deg=True)\n",
    "\n",
    "# Build DataFrame\n",
    "n_nodes = I_abc_A.shape[1]\n",
    "df_TP = pd.DataFrame({\n",
    "    \"Node\": np.repeat(np.arange(n_nodes), 3),\n",
    "    \"TP Phase\": np.tile([\"A\", \"B\", \"C\"], n_nodes),\n",
    "    \"TP Irms[A]\": I_abc_rms.T.flatten(),\n",
    "    \"TP Phase[deg]\": I_abc_angle.T.flatten(),\n",
    "    \"TP Tp[s]\": np.repeat(Tp_TP, 3)\n",
    "})\n",
    "\n",
    "df_TP = df_TP.round({\"TP Irms[A]\": 1, \"TP Phase[deg]\": 1, \"TP Tp[s]\": 3})\n"
   ]
  },
  {
   "cell_type": "markdown",
   "id": "2991f916",
   "metadata": {},
   "source": [
    "### Single Line to Ground Fault\n",
    "\n",
    "$$\\bar{I}_{0-\\Delta k} = \\bar{I}_{1-\\Delta k} = \\bar{I}_{2-\\Delta k} = \\frac{\\bar{V}_{1-pF}}{\\bar{Z}_{0-kk} + \\bar{Z}_{1-kk} + \\bar{Z}_{2-kk} + 3R_f} = \\frac{\\bar{V}_{1-pF}}{\\bar{Z}_T}$$"
   ]
  },
  {
   "cell_type": "code",
   "execution_count": null,
   "id": "cf274f98",
   "metadata": {},
   "outputs": [],
   "source": [
    "ZT_SLG = np.diag(Z1) + np.diag(Z1) + np.diag(Z0) + 3*Zf_max_pu\n",
    "ZT_SLG = np.asarray(ZT_SLG)  # make sure it's a NumPy array\n",
    "\n",
    "If_pu_SLG = 1.0 / ZT_SLG\n",
    "Tp_SLG = np.where(ZT_SLG.real != 0, ZT_SLG.imag / ZT_SLG.real, np.nan)\n",
    "\n",
    "# Fault current with zero fault impedance (bolted fault)\n",
    "ZT_SLG_zero = np.diag(Z1) + np.diag(Z1) + np.diag(Z0)\n",
    "ZT_SLG_zero = np.asarray(ZT_SLG_zero)\n",
    "\n",
    "If_pu_SLG_zero = 1.0 / ZT_SLG_zero\n",
    "Tp_SLG_zero = np.where(ZT_SLG_zero.real != 0, ZT_SLG_zero.imag / ZT_SLG_zero.real, np.nan)\n",
    "\n",
    "\n",
    "# Base currents\n",
    "I_base = dfs[\"Nodes\"][\"Base Current [pu]\"].values  # A\n",
    "\n",
    "# Stack I0, I1, I2 for each node\n",
    "I_seq = np.vstack([If_pu_SLG, If_pu_SLG, If_pu_SLG])         # SLG with Zf\n",
    "I_seq_zero = np.vstack([If_pu_SLG_zero, If_pu_SLG_zero, If_pu_SLG_zero])  # bolted fault\n",
    "\n",
    "# Phase currents in pu\n",
    "I_abc_pu = (A @ I_seq) / 3\n",
    "I_abc_pu_zero = (A @ I_seq_zero) / 3\n",
    "\n",
    "# Convert to Amperes\n",
    "I_abc_A = I_abc_pu * I_base\n",
    "I_abc_A_zero = I_abc_pu_zero * I_base\n",
    "\n",
    "# Compute RMS and phase angle\n",
    "I_abc_rms = np.abs(I_abc_A) / np.sqrt(2)\n",
    "I_abc_rms_zero = np.abs(I_abc_A_zero) / np.sqrt(2)\n",
    "\n",
    "I_abc_angle = np.angle(I_abc_A, deg=True)\n",
    "I_abc_angle_zero = np.angle(I_abc_A_zero, deg=True)\n",
    "\n",
    "# Build DataFrame\n",
    "n_nodes = I_abc_A.shape[1]\n",
    "df_SLG = pd.DataFrame({\n",
    "    \"Node\": np.repeat(np.arange(n_nodes), 3),\n",
    "    \"SLG Phase\": np.tile([\"A\", \"B\", \"C\"], n_nodes),\n",
    "    \"SLG Irms Min[A]\": I_abc_rms.T.flatten(),\n",
    "    \"SLG Phase Min[deg]\": I_abc_angle.T.flatten(),\n",
    "    \"SLG Tp Min[s]\": np.repeat(Tp_SLG, 3),\n",
    "    \"SLG Irms Max[A]\": I_abc_rms_zero.T.flatten(),\n",
    "    \"SLG Phase Max[deg]\": I_abc_angle_zero.T.flatten(),\n",
    "    \"SLG Tp Max[s]\": np.repeat(Tp_SLG_zero, 3)\n",
    "})\n",
    "\n",
    "df_SLG = df_SLG.round({\"SLG Irms Min[A]\": 1, \"SLG Phase Min[deg]\": 1, \"SLG Tp Min[s]\": 3,\n",
    "                       \"SLG Irms Max[A]\": 1, \"SLG Phase Max[deg]\": 1, \"SLG Tp Max[s]\": 3})"
   ]
  },
  {
   "cell_type": "markdown",
   "id": "b23b066b",
   "metadata": {},
   "source": [
    "### Line to Line fault\n",
    "\n",
    "$$\\bar{I}_{1-\\Delta k} = - \\bar{I}_{2-\\Delta k} = \\frac{\\bar{V}_{1-pF}}{\\bar{Z}_{1-kk} + \\bar{Z}_{2-kk} + 3R_f} = \\frac{\\bar{V}_{1-pF}}{\\bar{Z}_T}$$"
   ]
  },
  {
   "cell_type": "code",
   "execution_count": null,
   "id": "d7732e60",
   "metadata": {},
   "outputs": [],
   "source": [
    "# Fault current with Zf_max_pu\n",
    "ZT_LL = np.diag(Z1) + np.diag(Z1) + Zf_max_pu\n",
    "ZT_LL = np.asarray(ZT_LL)  # make sure it's a NumPy array\n",
    "If_pu_LL = 1.0 / ZT_LL  # pu assuming V_prefault = 1 pu\n",
    "Tp_LL = np.where(ZT_LL.real != 0, ZT_LL.imag / ZT_LL.real, np.nan)\n",
    "\n",
    "# Base currents\n",
    "I_base = dfs[\"Nodes\"][\"Base Current [pu]\"].values  # A\n",
    "\n",
    "# Stack I0, I1, I2 for each node\n",
    "I_seq = np.vstack([np.zeros_like(If_pu_LL), If_pu_LL, -If_pu_LL])\n",
    "\n",
    "# Phase currents in pu\n",
    "I_abc_pu = (A @ I_seq) / 3\n",
    "\n",
    "# Convert to Amperes\n",
    "I_abc_A = I_abc_pu * I_base\n",
    "\n",
    "\n",
    "# Compute RMS and phase angle\n",
    "I_abc_rms = np.abs(I_abc_A) / np.sqrt(2)\n",
    "\n",
    "I_abc_angle = np.angle(I_abc_A, deg=True)\n",
    "\n",
    "# Build DataFrame\n",
    "n_nodes = I_abc_A.shape[1]\n",
    "df_LL = pd.DataFrame({\n",
    "    \"Node\": np.repeat(np.arange(n_nodes), 3),\n",
    "    \"LL Phase\": np.tile([\"A\", \"B\", \"C\"], n_nodes),\n",
    "    \"LL Irms[A]\": I_abc_rms.T.flatten(),\n",
    "    \"LL Phase[deg]\": I_abc_angle.T.flatten(),\n",
    "    \"LL Tp[s]\": np.repeat(Tp_LL, 3)\n",
    "})\n",
    "\n",
    "df_LL = df_LL.round({\"LL Irms[A]\": 1, \"LL Phase[deg]\": 1, \"LL Tp[s]\": 3})\n"
   ]
  },
  {
   "cell_type": "markdown",
   "id": "0c595aab",
   "metadata": {},
   "source": [
    "### Final Table 1:"
   ]
  },
  {
   "cell_type": "code",
   "execution_count": 69,
   "id": "fdff2c78",
   "metadata": {},
   "outputs": [
    {
     "data": {
      "application/vnd.microsoft.datawrangler.viewer.v0+json": {
       "columns": [
        {
         "name": "index",
         "rawType": "int64",
         "type": "integer"
        },
        {
         "name": "Node",
         "rawType": "int32",
         "type": "integer"
        },
        {
         "name": "TP Phase",
         "rawType": "object",
         "type": "string"
        },
        {
         "name": "TP Irms[A]",
         "rawType": "float64",
         "type": "float"
        },
        {
         "name": "TP Phase[deg]",
         "rawType": "float64",
         "type": "float"
        },
        {
         "name": "TP Tp[s]",
         "rawType": "float64",
         "type": "float"
        },
        {
         "name": "SLG Phase",
         "rawType": "object",
         "type": "string"
        },
        {
         "name": "SLG Irms Min[A]",
         "rawType": "float64",
         "type": "float"
        },
        {
         "name": "SLG Phase Min[deg]",
         "rawType": "float64",
         "type": "float"
        },
        {
         "name": "SLG Tp Min[s]",
         "rawType": "float64",
         "type": "float"
        },
        {
         "name": "SLG Irms Max[A]",
         "rawType": "float64",
         "type": "float"
        },
        {
         "name": "SLG Phase Max[deg]",
         "rawType": "float64",
         "type": "float"
        },
        {
         "name": "SLG Tp Max[s]",
         "rawType": "float64",
         "type": "float"
        },
        {
         "name": "LL Phase",
         "rawType": "object",
         "type": "string"
        },
        {
         "name": "LL Irms[A]",
         "rawType": "float64",
         "type": "float"
        },
        {
         "name": "LL Phase[deg]",
         "rawType": "float64",
         "type": "float"
        },
        {
         "name": "LL Tp[s]",
         "rawType": "float64",
         "type": "float"
        }
       ],
       "ref": "38a22f25-3eda-475d-9c06-addb548d63a1",
       "rows": [
        [
         "0",
         "1",
         "A",
         "16672.0",
         "-88.6",
         "0.126",
         "A",
         "1518.2",
         "-6.1",
         "0.106",
         "14351.1",
         "-88.5",
         "38.7",
         "B",
         "2550.9",
         "-104.5",
         "0.258"
        ],
        [
         "1",
         "2",
         "A",
         "10611.6",
         "-86.9",
         "0.058",
         "A",
         "1494.5",
         "-9.8",
         "0.172",
         "8803.7",
         "-86.8",
         "18.16",
         "B",
         "2409.7",
         "-111.7",
         "0.399"
        ],
        [
         "2",
         "3",
         "A",
         "5389.7",
         "-84.5",
         "0.033",
         "A",
         "1273.3",
         "-27.9",
         "0.529",
         "2705.8",
         "-83.6",
         "8.97",
         "B",
         "1976.3",
         "-126.6",
         "0.742"
        ],
        [
         "3",
         "4",
         "A",
         "4789.1",
         "-83.9",
         "0.03",
         "A",
         "1216.0",
         "-31.0",
         "0.601",
         "2343.8",
         "-83.0",
         "8.187",
         "B",
         "1869.7",
         "-129.3",
         "0.82"
        ],
        [
         "4",
         "5",
         "A",
         "4286.8",
         "-84.1",
         "0.031",
         "A",
         "1159.7",
         "-34.8",
         "0.694",
         "2020.9",
         "-83.6",
         "8.92",
         "B",
         "1776.6",
         "-132.3",
         "0.91"
        ],
        [
         "5",
         "6",
         "A",
         "3973.5",
         "-84.8",
         "0.035",
         "A",
         "1138.2",
         "-36.7",
         "0.745",
         "1896.6",
         "-84.4",
         "10.201",
         "B",
         "1717.2",
         "-134.7",
         "0.988"
        ],
        [
         "6",
         "7",
         "A",
         "8391.7",
         "-87.5",
         "0.073",
         "A",
         "1482.4",
         "-12.0",
         "0.213",
         "7119.2",
         "-87.3",
         "21.15",
         "B",
         "2315.8",
         "-116.8",
         "0.504"
        ],
        [
         "7",
         "8",
         "A",
         "1322.1",
         "-83.6",
         "0.028",
         "A",
         "521.9",
         "-63.6",
         "2.017",
         "578.7",
         "-83.4",
         "8.668",
         "B",
         "751.2",
         "-157.2",
         "2.382"
        ],
        [
         "8",
         "9",
         "A",
         "983.7",
         "-84.2",
         "0.032",
         "A",
         "401.0",
         "-69.0",
         "2.611",
         "427.2",
         "-84.1",
         "9.751",
         "B",
         "575.1",
         "-161.8",
         "3.039"
        ],
        [
         "9",
         "10",
         "A",
         "386790.2",
         "-89.5",
         "0.335",
         "A",
         "102.1",
         "-0.0",
         "0.0",
         "410252.9",
         "-89.5",
         "105.233",
         "B",
         "176.8",
         "-90.0",
         "0.001"
        ],
        [
         "10",
         "11",
         "A",
         "153994.2",
         "-88.6",
         "0.128",
         "A",
         "132.7",
         "-0.0",
         "0.001",
         "163335.5",
         "-88.6",
         "40.338",
         "B",
         "229.8",
         "-90.1",
         "0.002"
        ],
        [
         "11",
         "12",
         "A",
         "195705.8",
         "-89.3",
         "0.245",
         "A",
         "102.1",
         "-0.0",
         "0.0",
         "207577.4",
         "-89.3",
         "76.932",
         "B",
         "176.8",
         "-90.1",
         "0.001"
        ]
       ],
       "shape": {
        "columns": 16,
        "rows": 12
       }
      },
      "text/html": [
       "<div>\n",
       "<style scoped>\n",
       "    .dataframe tbody tr th:only-of-type {\n",
       "        vertical-align: middle;\n",
       "    }\n",
       "\n",
       "    .dataframe tbody tr th {\n",
       "        vertical-align: top;\n",
       "    }\n",
       "\n",
       "    .dataframe thead th {\n",
       "        text-align: right;\n",
       "    }\n",
       "</style>\n",
       "<table border=\"1\" class=\"dataframe\">\n",
       "  <thead>\n",
       "    <tr style=\"text-align: right;\">\n",
       "      <th></th>\n",
       "      <th>Node</th>\n",
       "      <th>TP Phase</th>\n",
       "      <th>TP Irms[A]</th>\n",
       "      <th>TP Phase[deg]</th>\n",
       "      <th>TP Tp[s]</th>\n",
       "      <th>SLG Phase</th>\n",
       "      <th>SLG Irms Min[A]</th>\n",
       "      <th>SLG Phase Min[deg]</th>\n",
       "      <th>SLG Tp Min[s]</th>\n",
       "      <th>SLG Irms Max[A]</th>\n",
       "      <th>SLG Phase Max[deg]</th>\n",
       "      <th>SLG Tp Max[s]</th>\n",
       "      <th>LL Phase</th>\n",
       "      <th>LL Irms[A]</th>\n",
       "      <th>LL Phase[deg]</th>\n",
       "      <th>LL Tp[s]</th>\n",
       "    </tr>\n",
       "  </thead>\n",
       "  <tbody>\n",
       "    <tr>\n",
       "      <th>0</th>\n",
       "      <td>1</td>\n",
       "      <td>A</td>\n",
       "      <td>16672.0</td>\n",
       "      <td>-88.6</td>\n",
       "      <td>0.126</td>\n",
       "      <td>A</td>\n",
       "      <td>1518.2</td>\n",
       "      <td>-6.1</td>\n",
       "      <td>0.106</td>\n",
       "      <td>14351.1</td>\n",
       "      <td>-88.5</td>\n",
       "      <td>38.700</td>\n",
       "      <td>B</td>\n",
       "      <td>2550.9</td>\n",
       "      <td>-104.5</td>\n",
       "      <td>0.258</td>\n",
       "    </tr>\n",
       "    <tr>\n",
       "      <th>1</th>\n",
       "      <td>2</td>\n",
       "      <td>A</td>\n",
       "      <td>10611.6</td>\n",
       "      <td>-86.9</td>\n",
       "      <td>0.058</td>\n",
       "      <td>A</td>\n",
       "      <td>1494.5</td>\n",
       "      <td>-9.8</td>\n",
       "      <td>0.172</td>\n",
       "      <td>8803.7</td>\n",
       "      <td>-86.8</td>\n",
       "      <td>18.160</td>\n",
       "      <td>B</td>\n",
       "      <td>2409.7</td>\n",
       "      <td>-111.7</td>\n",
       "      <td>0.399</td>\n",
       "    </tr>\n",
       "    <tr>\n",
       "      <th>2</th>\n",
       "      <td>3</td>\n",
       "      <td>A</td>\n",
       "      <td>5389.7</td>\n",
       "      <td>-84.5</td>\n",
       "      <td>0.033</td>\n",
       "      <td>A</td>\n",
       "      <td>1273.3</td>\n",
       "      <td>-27.9</td>\n",
       "      <td>0.529</td>\n",
       "      <td>2705.8</td>\n",
       "      <td>-83.6</td>\n",
       "      <td>8.970</td>\n",
       "      <td>B</td>\n",
       "      <td>1976.3</td>\n",
       "      <td>-126.6</td>\n",
       "      <td>0.742</td>\n",
       "    </tr>\n",
       "    <tr>\n",
       "      <th>3</th>\n",
       "      <td>4</td>\n",
       "      <td>A</td>\n",
       "      <td>4789.1</td>\n",
       "      <td>-83.9</td>\n",
       "      <td>0.030</td>\n",
       "      <td>A</td>\n",
       "      <td>1216.0</td>\n",
       "      <td>-31.0</td>\n",
       "      <td>0.601</td>\n",
       "      <td>2343.8</td>\n",
       "      <td>-83.0</td>\n",
       "      <td>8.187</td>\n",
       "      <td>B</td>\n",
       "      <td>1869.7</td>\n",
       "      <td>-129.3</td>\n",
       "      <td>0.820</td>\n",
       "    </tr>\n",
       "    <tr>\n",
       "      <th>4</th>\n",
       "      <td>5</td>\n",
       "      <td>A</td>\n",
       "      <td>4286.8</td>\n",
       "      <td>-84.1</td>\n",
       "      <td>0.031</td>\n",
       "      <td>A</td>\n",
       "      <td>1159.7</td>\n",
       "      <td>-34.8</td>\n",
       "      <td>0.694</td>\n",
       "      <td>2020.9</td>\n",
       "      <td>-83.6</td>\n",
       "      <td>8.920</td>\n",
       "      <td>B</td>\n",
       "      <td>1776.6</td>\n",
       "      <td>-132.3</td>\n",
       "      <td>0.910</td>\n",
       "    </tr>\n",
       "    <tr>\n",
       "      <th>5</th>\n",
       "      <td>6</td>\n",
       "      <td>A</td>\n",
       "      <td>3973.5</td>\n",
       "      <td>-84.8</td>\n",
       "      <td>0.035</td>\n",
       "      <td>A</td>\n",
       "      <td>1138.2</td>\n",
       "      <td>-36.7</td>\n",
       "      <td>0.745</td>\n",
       "      <td>1896.6</td>\n",
       "      <td>-84.4</td>\n",
       "      <td>10.201</td>\n",
       "      <td>B</td>\n",
       "      <td>1717.2</td>\n",
       "      <td>-134.7</td>\n",
       "      <td>0.988</td>\n",
       "    </tr>\n",
       "    <tr>\n",
       "      <th>6</th>\n",
       "      <td>7</td>\n",
       "      <td>A</td>\n",
       "      <td>8391.7</td>\n",
       "      <td>-87.5</td>\n",
       "      <td>0.073</td>\n",
       "      <td>A</td>\n",
       "      <td>1482.4</td>\n",
       "      <td>-12.0</td>\n",
       "      <td>0.213</td>\n",
       "      <td>7119.2</td>\n",
       "      <td>-87.3</td>\n",
       "      <td>21.150</td>\n",
       "      <td>B</td>\n",
       "      <td>2315.8</td>\n",
       "      <td>-116.8</td>\n",
       "      <td>0.504</td>\n",
       "    </tr>\n",
       "    <tr>\n",
       "      <th>7</th>\n",
       "      <td>8</td>\n",
       "      <td>A</td>\n",
       "      <td>1322.1</td>\n",
       "      <td>-83.6</td>\n",
       "      <td>0.028</td>\n",
       "      <td>A</td>\n",
       "      <td>521.9</td>\n",
       "      <td>-63.6</td>\n",
       "      <td>2.017</td>\n",
       "      <td>578.7</td>\n",
       "      <td>-83.4</td>\n",
       "      <td>8.668</td>\n",
       "      <td>B</td>\n",
       "      <td>751.2</td>\n",
       "      <td>-157.2</td>\n",
       "      <td>2.382</td>\n",
       "    </tr>\n",
       "    <tr>\n",
       "      <th>8</th>\n",
       "      <td>9</td>\n",
       "      <td>A</td>\n",
       "      <td>983.7</td>\n",
       "      <td>-84.2</td>\n",
       "      <td>0.032</td>\n",
       "      <td>A</td>\n",
       "      <td>401.0</td>\n",
       "      <td>-69.0</td>\n",
       "      <td>2.611</td>\n",
       "      <td>427.2</td>\n",
       "      <td>-84.1</td>\n",
       "      <td>9.751</td>\n",
       "      <td>B</td>\n",
       "      <td>575.1</td>\n",
       "      <td>-161.8</td>\n",
       "      <td>3.039</td>\n",
       "    </tr>\n",
       "    <tr>\n",
       "      <th>9</th>\n",
       "      <td>10</td>\n",
       "      <td>A</td>\n",
       "      <td>386790.2</td>\n",
       "      <td>-89.5</td>\n",
       "      <td>0.335</td>\n",
       "      <td>A</td>\n",
       "      <td>102.1</td>\n",
       "      <td>-0.0</td>\n",
       "      <td>0.000</td>\n",
       "      <td>410252.9</td>\n",
       "      <td>-89.5</td>\n",
       "      <td>105.233</td>\n",
       "      <td>B</td>\n",
       "      <td>176.8</td>\n",
       "      <td>-90.0</td>\n",
       "      <td>0.001</td>\n",
       "    </tr>\n",
       "    <tr>\n",
       "      <th>10</th>\n",
       "      <td>11</td>\n",
       "      <td>A</td>\n",
       "      <td>153994.2</td>\n",
       "      <td>-88.6</td>\n",
       "      <td>0.128</td>\n",
       "      <td>A</td>\n",
       "      <td>132.7</td>\n",
       "      <td>-0.0</td>\n",
       "      <td>0.001</td>\n",
       "      <td>163335.5</td>\n",
       "      <td>-88.6</td>\n",
       "      <td>40.338</td>\n",
       "      <td>B</td>\n",
       "      <td>229.8</td>\n",
       "      <td>-90.1</td>\n",
       "      <td>0.002</td>\n",
       "    </tr>\n",
       "    <tr>\n",
       "      <th>11</th>\n",
       "      <td>12</td>\n",
       "      <td>A</td>\n",
       "      <td>195705.8</td>\n",
       "      <td>-89.3</td>\n",
       "      <td>0.245</td>\n",
       "      <td>A</td>\n",
       "      <td>102.1</td>\n",
       "      <td>-0.0</td>\n",
       "      <td>0.000</td>\n",
       "      <td>207577.4</td>\n",
       "      <td>-89.3</td>\n",
       "      <td>76.932</td>\n",
       "      <td>B</td>\n",
       "      <td>176.8</td>\n",
       "      <td>-90.1</td>\n",
       "      <td>0.001</td>\n",
       "    </tr>\n",
       "  </tbody>\n",
       "</table>\n",
       "</div>"
      ],
      "text/plain": [
       "    Node TP Phase  TP Irms[A]  TP Phase[deg]  TP Tp[s] SLG Phase  \\\n",
       "0      1        A     16672.0          -88.6     0.126         A   \n",
       "1      2        A     10611.6          -86.9     0.058         A   \n",
       "2      3        A      5389.7          -84.5     0.033         A   \n",
       "3      4        A      4789.1          -83.9     0.030         A   \n",
       "4      5        A      4286.8          -84.1     0.031         A   \n",
       "5      6        A      3973.5          -84.8     0.035         A   \n",
       "6      7        A      8391.7          -87.5     0.073         A   \n",
       "7      8        A      1322.1          -83.6     0.028         A   \n",
       "8      9        A       983.7          -84.2     0.032         A   \n",
       "9     10        A    386790.2          -89.5     0.335         A   \n",
       "10    11        A    153994.2          -88.6     0.128         A   \n",
       "11    12        A    195705.8          -89.3     0.245         A   \n",
       "\n",
       "    SLG Irms Min[A]  SLG Phase Min[deg]  SLG Tp Min[s]  SLG Irms Max[A]  \\\n",
       "0            1518.2                -6.1          0.106          14351.1   \n",
       "1            1494.5                -9.8          0.172           8803.7   \n",
       "2            1273.3               -27.9          0.529           2705.8   \n",
       "3            1216.0               -31.0          0.601           2343.8   \n",
       "4            1159.7               -34.8          0.694           2020.9   \n",
       "5            1138.2               -36.7          0.745           1896.6   \n",
       "6            1482.4               -12.0          0.213           7119.2   \n",
       "7             521.9               -63.6          2.017            578.7   \n",
       "8             401.0               -69.0          2.611            427.2   \n",
       "9             102.1                -0.0          0.000         410252.9   \n",
       "10            132.7                -0.0          0.001         163335.5   \n",
       "11            102.1                -0.0          0.000         207577.4   \n",
       "\n",
       "    SLG Phase Max[deg]  SLG Tp Max[s] LL Phase  LL Irms[A]  LL Phase[deg]  \\\n",
       "0                -88.5         38.700        B      2550.9         -104.5   \n",
       "1                -86.8         18.160        B      2409.7         -111.7   \n",
       "2                -83.6          8.970        B      1976.3         -126.6   \n",
       "3                -83.0          8.187        B      1869.7         -129.3   \n",
       "4                -83.6          8.920        B      1776.6         -132.3   \n",
       "5                -84.4         10.201        B      1717.2         -134.7   \n",
       "6                -87.3         21.150        B      2315.8         -116.8   \n",
       "7                -83.4          8.668        B       751.2         -157.2   \n",
       "8                -84.1          9.751        B       575.1         -161.8   \n",
       "9                -89.5        105.233        B       176.8          -90.0   \n",
       "10               -88.6         40.338        B       229.8          -90.1   \n",
       "11               -89.3         76.932        B       176.8          -90.1   \n",
       "\n",
       "    LL Tp[s]  \n",
       "0      0.258  \n",
       "1      0.399  \n",
       "2      0.742  \n",
       "3      0.820  \n",
       "4      0.910  \n",
       "5      0.988  \n",
       "6      0.504  \n",
       "7      2.382  \n",
       "8      3.039  \n",
       "9      0.001  \n",
       "10     0.002  \n",
       "11     0.001  "
      ]
     },
     "execution_count": 69,
     "metadata": {},
     "output_type": "execute_result"
    }
   ],
   "source": [
    "df_TP = df_TP.iloc[::3]\n",
    "df_SLG = df_SLG.iloc[::3]\n",
    "df_LL = df_LL.iloc[1::3]\n",
    "\n",
    "df_TP[\"Node\"] = df_TP[\"Node\"] + 1\n",
    "df_SLG[\"Node\"] = df_SLG[\"Node\"] + 1\n",
    "df_LL[\"Node\"] = df_LL[\"Node\"] + 1\n",
    "\n",
    "combined_df = df_TP.merge(df_SLG, on=\"Node\").merge(df_LL, on=\"Node\")\n",
    "\n",
    "combined_df"
   ]
  },
  {
   "cell_type": "markdown",
   "id": "ea05e332",
   "metadata": {},
   "source": [
    "## Question 2."
   ]
  },
  {
   "cell_type": "markdown",
   "id": "27ac1322",
   "metadata": {},
   "source": [
    "## Question 3."
   ]
  },
  {
   "cell_type": "markdown",
   "id": "c6133dcc",
   "metadata": {},
   "source": [
    "First calculate the Rated Symmetric Short-circuit Factor: $K_{SSC} = \\frac{I_{SC\\_ Max}}{N}$"
   ]
  },
  {
   "cell_type": "code",
   "execution_count": 70,
   "id": "346f2446",
   "metadata": {},
   "outputs": [
    {
     "name": "stdout",
     "output_type": "stream",
     "text": [
      "16672.0\n"
     ]
    }
   ],
   "source": [
    "combined_df.drop(combined_df.index[-3:], inplace=True)\n",
    "\n",
    "Isc_max = max(combined_df['TP Irms[A]'].max(), combined_df['SLG Irms Max[A]'].max(), combined_df['LL Irms[A]'].max())\n",
    "\n",
    "print(Isc_max)"
   ]
  },
  {
   "cell_type": "markdown",
   "id": "7df0f95a",
   "metadata": {},
   "source": [
    "$N$ is picked based on the normal load of the system,"
   ]
  },
  {
   "cell_type": "code",
   "execution_count": 71,
   "id": "e6c24330",
   "metadata": {},
   "outputs": [
    {
     "name": "stdout",
     "output_type": "stream",
     "text": [
      "28\n"
     ]
    }
   ],
   "source": [
    "N = 600\n",
    "\n",
    "k_ssc = math.ceil(Isc_max / N)\n",
    "\n",
    "print(k_ssc)"
   ]
  },
  {
   "cell_type": "markdown",
   "id": "8dd51251",
   "metadata": {},
   "source": [
    "$$\n",
    "K_{tf} = \\frac{\\omega T_P T_S}{T_P - T_S}(e^{-\\frac{t}{T_P}}-e^{-\\frac{t}{T_S}})\n",
    "$$"
   ]
  },
  {
   "cell_type": "code",
   "execution_count": 72,
   "id": "f6dc64d6",
   "metadata": {},
   "outputs": [
    {
     "name": "stdout",
     "output_type": "stream",
     "text": [
      "38.7\n"
     ]
    }
   ],
   "source": [
    "Tp_max = max(combined_df['TP Tp[s]'].max(), combined_df['SLG Tp Max[s]'].max(), combined_df['LL Tp[s]'].max())\n",
    "\n",
    "print(Tp_max)\n"
   ]
  },
  {
   "cell_type": "markdown",
   "id": "f32c3835",
   "metadata": {},
   "source": [
    "Assume $T_S = 3$ and $t_{sat} = 0.04$, (two cycles at 50Hz)"
   ]
  },
  {
   "cell_type": "code",
   "execution_count": 73,
   "id": "62709c8d",
   "metadata": {},
   "outputs": [
    {
     "name": "stdout",
     "output_type": "stream",
     "text": [
      "13\n"
     ]
    }
   ],
   "source": [
    "Ts = 3\n",
    "t_sat = 0.04\n",
    "\n",
    "k_tf = (2 * np.pi * f * Tp_max * Ts) / (Tp_max - Ts) * (np.exp(-t_sat / Tp_max) - np.exp(-t_sat / Ts))\n",
    "k_tf = math.ceil(k_tf)\n",
    "\n",
    "print(k_tf)"
   ]
  },
  {
   "cell_type": "markdown",
   "id": "2981aff1",
   "metadata": {},
   "source": [
    "$$\n",
    "E_{mf sat} = K_{ssc} \\times k_{tf} \\times I_{2n} \\times (R_B + R_{CT})\n",
    "$$\n",
    "\n",
    "With $R_B = 5 \\Omega$, $R_{CT} = 6 \\Omega$ and $I_{2n} = 1A$"
   ]
  },
  {
   "cell_type": "code",
   "execution_count": 74,
   "id": "db950bc5",
   "metadata": {},
   "outputs": [
    {
     "name": "stdout",
     "output_type": "stream",
     "text": [
      "4004\n"
     ]
    }
   ],
   "source": [
    "R_B = 5  # Ohm\n",
    "R_CT = 6  # Ohm\n",
    "I_2n = 1  # A\n",
    "\n",
    "E_mf_sat = k_ssc * k_tf * I_2n * (R_B + R_CT)\n",
    "\n",
    "print(E_mf_sat)"
   ]
  },
  {
   "cell_type": "markdown",
   "id": "334b9ab3",
   "metadata": {},
   "source": [
    "$$\n",
    "A = \\frac{E_{mf sat}}{\\frac{2 \\pi}{\\sqrt{2}}\\times B_{sat} \\times f \\times N}\n",
    "$$"
   ]
  },
  {
   "cell_type": "code",
   "execution_count": 75,
   "id": "7eede3e0",
   "metadata": {},
   "outputs": [
    {
     "name": "stdout",
     "output_type": "stream",
     "text": [
      "214.5753886841103\n"
     ]
    }
   ],
   "source": [
    "B_sat = 1.4  # Tesla\n",
    "\n",
    "A = E_mf_sat / ((2 * np.pi / np.sqrt(2)) * B_sat * f * N)\n",
    "\n",
    "A = A * 10000  # cm^2\n",
    "\n",
    "print(A)"
   ]
  },
  {
   "cell_type": "code",
   "execution_count": 76,
   "id": "c5146e04",
   "metadata": {},
   "outputs": [
    {
     "name": "stdout",
     "output_type": "stream",
     "text": [
      "600:1 Rb = 5; class = TPX 28x13 RCT < 6\n"
     ]
    }
   ],
   "source": [
    "print(str(N) + \":1 Rb = \" + str(R_B) + \"; class = TPX \" + str(k_ssc) + \"x\" + str(k_tf) + \" RCT < \" + str(R_CT))"
   ]
  }
 ],
 "metadata": {
  "kernelspec": {
   "display_name": "Python 3",
   "language": "python",
   "name": "python3"
  },
  "language_info": {
   "codemirror_mode": {
    "name": "ipython",
    "version": 3
   },
   "file_extension": ".py",
   "mimetype": "text/x-python",
   "name": "python",
   "nbconvert_exporter": "python",
   "pygments_lexer": "ipython3",
   "version": "3.11.0"
  }
 },
 "nbformat": 4,
 "nbformat_minor": 5
}
