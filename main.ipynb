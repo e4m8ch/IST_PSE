{
 "cells": [
  {
   "cell_type": "markdown",
   "id": "49b51ea2",
   "metadata": {},
   "source": [
    "# Power System Analysis 2025/26 @ IST Work assessment\n"
   ]
  },
  {
   "cell_type": "code",
   "execution_count": 1,
   "id": "9896cb09",
   "metadata": {},
   "outputs": [],
   "source": [
    "import math\n",
    "import numpy as np\n",
    "import matplotlib.pyplot as plt\n",
    "import pandas as pd"
   ]
  },
  {
   "cell_type": "markdown",
   "id": "bf69c3eb",
   "metadata": {},
   "source": [
    "First, we read the excel file with the network data and create a dictionary of datasets, one for each sheet. As we can see from the output of dfs.keys(), we now have five datasets: 'Nodes', 'Transformers', 'Generators', 'Lines' and 'Loads'."
   ]
  },
  {
   "cell_type": "code",
   "execution_count": 2,
   "id": "5858cd60",
   "metadata": {},
   "outputs": [
    {
     "data": {
      "text/plain": [
       "dict_keys(['Nodes', 'Transformers', 'Generators', 'Lines', 'Loads'])"
      ]
     },
     "execution_count": 2,
     "metadata": {},
     "output_type": "execute_result"
    }
   ],
   "source": [
    "path = \"network_data.xlsx\"\n",
    "xls = pd.ExcelFile(path)\n",
    "\n",
    "# Dictionary to hold DataFrames\n",
    "dfs = {}\n",
    "\n",
    "for sheet in xls.sheet_names:\n",
    "    dfs[sheet] = pd.read_excel(xls, sheet_name=sheet)\n",
    "\n",
    "# Display the keys to verify loading\n",
    "dfs.keys()"
   ]
  },
  {
   "cell_type": "markdown",
   "id": "9b283117",
   "metadata": {},
   "source": [
    "The next step is to properly define the base system, as well a the Fortescue matrix to use in later calculations. The base currents will be calculated based on the \"Nodes\" dataset, which presents the base voltages for each node of the system. Additionally, the base power is set to a fixed 100MVA.\n",
    "\n",
    "Apart from this, the Resistances and Reactances were combined into a single Impedance collumn in all the datasets for easier handling - and converted from Ohm to per-unit when necessary."
   ]
  },
  {
   "cell_type": "code",
   "execution_count": 8,
   "id": "e273f05c",
   "metadata": {},
   "outputs": [
    {
     "data": {
      "application/vnd.microsoft.datawrangler.viewer.v0+json": {
       "columns": [
        {
         "name": "index",
         "rawType": "int64",
         "type": "integer"
        },
        {
         "name": "Transformer Name",
         "rawType": "object",
         "type": "string"
        },
        {
         "name": "Node H",
         "rawType": "int64",
         "type": "integer"
        },
        {
         "name": "Node X",
         "rawType": "int64",
         "type": "integer"
        },
        {
         "name": "Power [MVA]",
         "rawType": "int64",
         "type": "integer"
        },
        {
         "name": "Voltage H [V]",
         "rawType": "int64",
         "type": "integer"
        },
        {
         "name": "Voltage X [V]",
         "rawType": "int64",
         "type": "integer"
        },
        {
         "name": "R [pu]",
         "rawType": "float64",
         "type": "float"
        },
        {
         "name": "X [pu]",
         "rawType": "float64",
         "type": "float"
        },
        {
         "name": "Connection Group",
         "rawType": "object",
         "type": "string"
        },
        {
         "name": "Z [pu]",
         "rawType": "complex128",
         "type": "unknown"
        }
       ],
       "ref": "389ca6b8-6c48-4a6a-a11f-1aa784aa1b53",
       "rows": [
        [
         "0",
         "T1",
         "1",
         "10",
         "360",
         "150000",
         "10000",
         "0.001",
         "0.04",
         "Ynd11",
         "(0.0002777777777777778+0.011111111111111112j)"
        ],
        [
         "1",
         "T2",
         "2",
         "11",
         "180",
         "150000",
         "13000",
         "0.002",
         "0.04",
         "Ynd5",
         "(0.0011111111111111111+0.022222222222222223j)"
        ],
        [
         "2",
         "T3",
         "7",
         "12",
         "210",
         "150000",
         "10000",
         "0.003",
         "0.05",
         "Ynd7",
         "(0.0014285714285714286+0.023809523809523808j)"
        ]
       ],
       "shape": {
        "columns": 10,
        "rows": 3
       }
      },
      "text/html": [
       "<div>\n",
       "<style scoped>\n",
       "    .dataframe tbody tr th:only-of-type {\n",
       "        vertical-align: middle;\n",
       "    }\n",
       "\n",
       "    .dataframe tbody tr th {\n",
       "        vertical-align: top;\n",
       "    }\n",
       "\n",
       "    .dataframe thead th {\n",
       "        text-align: right;\n",
       "    }\n",
       "</style>\n",
       "<table border=\"1\" class=\"dataframe\">\n",
       "  <thead>\n",
       "    <tr style=\"text-align: right;\">\n",
       "      <th></th>\n",
       "      <th>Transformer Name</th>\n",
       "      <th>Node H</th>\n",
       "      <th>Node X</th>\n",
       "      <th>Power [MVA]</th>\n",
       "      <th>Voltage H [V]</th>\n",
       "      <th>Voltage X [V]</th>\n",
       "      <th>R [pu]</th>\n",
       "      <th>X [pu]</th>\n",
       "      <th>Connection Group</th>\n",
       "      <th>Z [pu]</th>\n",
       "    </tr>\n",
       "  </thead>\n",
       "  <tbody>\n",
       "    <tr>\n",
       "      <th>0</th>\n",
       "      <td>T1</td>\n",
       "      <td>1</td>\n",
       "      <td>10</td>\n",
       "      <td>360</td>\n",
       "      <td>150000</td>\n",
       "      <td>10000</td>\n",
       "      <td>0.001</td>\n",
       "      <td>0.04</td>\n",
       "      <td>Ynd11</td>\n",
       "      <td>0.000278+0.011111j</td>\n",
       "    </tr>\n",
       "    <tr>\n",
       "      <th>1</th>\n",
       "      <td>T2</td>\n",
       "      <td>2</td>\n",
       "      <td>11</td>\n",
       "      <td>180</td>\n",
       "      <td>150000</td>\n",
       "      <td>13000</td>\n",
       "      <td>0.002</td>\n",
       "      <td>0.04</td>\n",
       "      <td>Ynd5</td>\n",
       "      <td>0.001111+0.022222j</td>\n",
       "    </tr>\n",
       "    <tr>\n",
       "      <th>2</th>\n",
       "      <td>T3</td>\n",
       "      <td>7</td>\n",
       "      <td>12</td>\n",
       "      <td>210</td>\n",
       "      <td>150000</td>\n",
       "      <td>10000</td>\n",
       "      <td>0.003</td>\n",
       "      <td>0.05</td>\n",
       "      <td>Ynd7</td>\n",
       "      <td>0.001429+0.023810j</td>\n",
       "    </tr>\n",
       "  </tbody>\n",
       "</table>\n",
       "</div>"
      ],
      "text/plain": [
       "  Transformer Name  Node H  Node X  Power [MVA]  Voltage H [V]  Voltage X [V]  \\\n",
       "0               T1       1      10          360         150000          10000   \n",
       "1               T2       2      11          180         150000          13000   \n",
       "2               T3       7      12          210         150000          10000   \n",
       "\n",
       "   R [pu]  X [pu] Connection Group              Z [pu]  \n",
       "0   0.001    0.04            Ynd11  0.000278+0.011111j  \n",
       "1   0.002    0.04             Ynd5  0.001111+0.022222j  \n",
       "2   0.003    0.05             Ynd7  0.001429+0.023810j  "
      ]
     },
     "execution_count": 8,
     "metadata": {},
     "output_type": "execute_result"
    }
   ],
   "source": [
    "# Define base system:\n",
    "\n",
    "# Base system\n",
    "Sb=100e6 # W (100 MVA)\n",
    "\n",
    "# Compute base current\n",
    "dfs[\"Nodes\"][\"Base Current [pu]\"] = Sb/(math.sqrt(3)*dfs[\"Nodes\"][\"Base Voltage [V]\"]) # A\n",
    "\n",
    "# Transformation matrix\n",
    "a=np.exp(2j*np.pi/3)\n",
    "A= np.array([[1,1,1],[1,a**2,a],[1,a,a**2]])\n",
    "\n",
    "# Maximum fault parameters\n",
    "tf_max= 2 # seconds\n",
    "Zf_max = 40 # Ohm\n",
    "\n",
    "# Compute the network impedances in pu\n",
    "\n",
    "# Convert to the correct base \n",
    "dfs[\"Transformers\"][\"Z [pu]\"] = (\n",
    "    (dfs[\"Transformers\"][\"R [pu]\"] + 1j * dfs[\"Transformers\"][\"X [pu]\"])\n",
    "    * (Sb / (dfs[\"Transformers\"][\"Power [MVA]\"] * 1e6))\n",
    ")\n",
    "\n",
    "dfs[\"Generators\"][\"Z [pu]\"] = (\n",
    "    (dfs[\"Generators\"][\"R [pu]\"] + 1j * dfs[\"Generators\"][\"X [pu]\"])\n",
    "    * (Sb / (dfs[\"Generators\"][\"Power [MVA]\"] * 1e6))\n",
    ")\n",
    "\n",
    "\n",
    "dfs[\"Lines\"][\"Z1 [ohm]\"] = dfs[\"Lines\"][\"R1 [ohm]\"] + dfs[\"Lines\"][\"X1 [ohm]\"]*1j\n",
    "dfs[\"Lines\"][\"Z0 [ohm]\"] = dfs[\"Lines\"][\"R0 [ohm]\"] + dfs[\"Lines\"][\"X0 [ohm]\"]*1j\n",
    "\n",
    "dfs[\"Lines\"][\"Z1 [pu]\"] = dfs[\"Lines\"][\"Z1 [ohm]\"]/(dfs[\"Lines\"][\"Voltage Level [V]\"]**2/Sb)\n",
    "dfs[\"Lines\"][\"Z0 [pu]\"] = dfs[\"Lines\"][\"Z0 [ohm]\"]/(dfs[\"Lines\"][\"Voltage Level [V]\"]**2/Sb)\n",
    "\n",
    "dfs[\"Transformers\"].head()"
   ]
  },
  {
   "cell_type": "markdown",
   "id": "295b13e8",
   "metadata": {},
   "source": [
    "We can now build our primitive Impedance and Admittance matrices. Since all the transformers in this system have Ynd windings, none of them outright blocks zero sequence current to flow into the Y winding. As such, they should all be included in the primitive zero sequence matrices, since they allow zero sequence current to flow to ground, and as such, represent an impedance in the zero sequence network.\n",
    "\n",
    "Aditionally, no loads were included since load current is usually negligible when performing short-circuit analysis at the grid level."
   ]
  },
  {
   "cell_type": "code",
   "execution_count": 4,
   "id": "caf04243",
   "metadata": {},
   "outputs": [],
   "source": [
    "# Primitive Impedance matrices\n",
    "# Created by placing the impedances of each element in the diagonal of a matrix, ordered lines - generators - transformers\n",
    "\n",
    "Zprim1 = np.diag(\n",
    "    dfs[\"Lines\"][\"Z1 [pu]\"].tolist()\n",
    "    + dfs[\"Generators\"][\"Z [pu]\"].tolist()\n",
    "    + dfs[\"Transformers\"][\"Z [pu]\"].tolist()\n",
    ")\n",
    "\n",
    "Zprim0 = np.diag(\n",
    "    dfs[\"Lines\"][\"Z0 [pu]\"].tolist()\n",
    "    + dfs[\"Generators\"][\"Z [pu]\"].tolist()\n",
    "    + dfs[\"Transformers\"][\"Z [pu]\"].tolist()\n",
    ")\n",
    "\n",
    "# Primitive admittance matrices\n",
    "# Created by inverting the primitive impedance matrices, since [Y] = [Z]^-1\n",
    "\n",
    "Yprim1 = np.diag(1 / np.diag(Zprim1))\n",
    "Yprim0 = np.diag(1 / np.diag(Zprim0))\n"
   ]
  },
  {
   "cell_type": "markdown",
   "id": "bf85a368",
   "metadata": {},
   "source": [
    "Now we must create the constrain matrices for the zero and positive sequence. These matrices will have a dimmension of 12x20 (number of nodes x number of branches). The main difference between the two sequences will be that, for the zero sequence, the generator will not be connected to the transformers (since it is connected via a delta winding).\n",
    "\n",
    "Aditionally, I have defined the currents to always flow from the lowest number node to the highest number node.\n",
    "\n",
    "Since the positive sequence network has the exact same topology as the actual network, we can simply grab the node connections in our datasets to build the constrain matrix:"
   ]
  },
  {
   "cell_type": "code",
   "execution_count": 5,
   "id": "ab148363",
   "metadata": {},
   "outputs": [
    {
     "name": "stdout",
     "output_type": "stream",
     "text": [
      "[[-1  1  0  0  0  0  0  0  0  0  0  0]\n",
      " [-1  0  0  1  0  0  0  0  0  0  0  0]\n",
      " [-1  0  0  0  1  0  0  0  0  0  0  0]\n",
      " [ 0 -1  1  0  0  0  0  0  0  0  0  0]\n",
      " [ 0 -1  0  1  0  0  0  0  0  0  0  0]\n",
      " [ 0 -1  0  0  1  0  0  0  0  0  0  0]\n",
      " [ 0 -1  0  0  0  1  0  0  0  0  0  0]\n",
      " [ 0  0 -1  0  1  0  0  0  0  0  0  0]\n",
      " [ 0  0 -1  0  0  1  0  0  0  0  0  0]\n",
      " [ 0  0  0 -1  1  0  0  0  0  0  0  0]\n",
      " [ 0  0  0  0 -1  1  0  0  0  0  0  0]\n",
      " [ 0  0 -1  0  0  0  1  0  0  0  0  0]\n",
      " [ 0  0  0  0 -1  0  0  1  0  0  0  0]\n",
      " [ 0  0  0  0  0  0  0 -1  1  0  0  0]\n",
      " [ 0  0  0  0  0  0  0  0  0  1  0  0]\n",
      " [ 0  0  0  0  0  0  0  0  0  0  1  0]\n",
      " [ 0  0  0  0  0  0  0  0  0  0  0  1]\n",
      " [-1  0  0  0  0  0  0  0  0  1  0  0]\n",
      " [ 0 -1  0  0  0  0  0  0  0  0  1  0]\n",
      " [ 0  0  0  0  0  0 -1  0  0  0  0  1]]\n"
     ]
    }
   ],
   "source": [
    "# Construct the positive sequence constrain matrix C1\n",
    "C1 = np.zeros((20, 12), dtype=int)  # 20 branches, 12 nodes\n",
    "\n",
    "# Lines\n",
    "for branch_idx, row in dfs[\"Lines\"].iterrows():\n",
    "    node_a = int(row[\"Node A\"]) - 1  # 0-based indexing\n",
    "    node_b = int(row[\"Node B\"]) - 1\n",
    "\n",
    "    C1[branch_idx, node_a] = -1\n",
    "    C1[branch_idx, node_b] =  1\n",
    "\n",
    "# Generators\n",
    "start_row = len(dfs[\"Lines\"])  # where generator rows begin\n",
    "for gen_idx, row in dfs[\"Generators\"].iterrows():\n",
    "    node = int(row[\"Connecting Nodes\"]) - 1\n",
    "    row_idx = start_row + gen_idx\n",
    "    C1[row_idx, node] = 1\n",
    "\n",
    "# Transformers\n",
    "start_row += len(dfs[\"Generators\"])\n",
    "for trafo_idx, row in dfs[\"Transformers\"].iterrows():\n",
    "    node_h = int(row[\"Node H\"]) - 1\n",
    "    node_x = int(row[\"Node X\"]) - 1\n",
    "    row_idx = start_row + trafo_idx\n",
    "    C1[row_idx, node_h] = -1\n",
    "    C1[row_idx, node_x] =  1\n",
    "\n",
    "print(C1)\n"
   ]
  },
  {
   "cell_type": "markdown",
   "id": "94dd1150",
   "metadata": {},
   "source": [
    "Now for the negative sequence, we have to keep in mind that the transformers are connected to neutral instead of the node on the delta side, which for this case is always the node on collumn \"Node X\". Aditionally, to keep the convention set that current always flows from low node to high node, and assuming the neutral is node 0, I considered that the \"Node H\" column now inputted a 1 instead of a -1. We can construct the constrain matrix the same way:"
   ]
  },
  {
   "cell_type": "code",
   "execution_count": 6,
   "id": "5cd0ca34",
   "metadata": {},
   "outputs": [
    {
     "name": "stdout",
     "output_type": "stream",
     "text": [
      "[[-1  1  0  0  0  0  0  0  0  0  0  0]\n",
      " [-1  0  0  1  0  0  0  0  0  0  0  0]\n",
      " [-1  0  0  0  1  0  0  0  0  0  0  0]\n",
      " [ 0 -1  1  0  0  0  0  0  0  0  0  0]\n",
      " [ 0 -1  0  1  0  0  0  0  0  0  0  0]\n",
      " [ 0 -1  0  0  1  0  0  0  0  0  0  0]\n",
      " [ 0 -1  0  0  0  1  0  0  0  0  0  0]\n",
      " [ 0  0 -1  0  1  0  0  0  0  0  0  0]\n",
      " [ 0  0 -1  0  0  1  0  0  0  0  0  0]\n",
      " [ 0  0  0 -1  1  0  0  0  0  0  0  0]\n",
      " [ 0  0  0  0 -1  1  0  0  0  0  0  0]\n",
      " [ 0  0 -1  0  0  0  1  0  0  0  0  0]\n",
      " [ 0  0  0  0 -1  0  0  1  0  0  0  0]\n",
      " [ 0  0  0  0  0  0  0 -1  1  0  0  0]\n",
      " [ 0  0  0  0  0  0  0  0  0  1  0  0]\n",
      " [ 0  0  0  0  0  0  0  0  0  0  1  0]\n",
      " [ 0  0  0  0  0  0  0  0  0  0  0  1]\n",
      " [ 1  0  0  0  0  0  0  0  0  0  0  0]\n",
      " [ 0  1  0  0  0  0  0  0  0  0  0  0]\n",
      " [ 0  0  0  0  0  0  1  0  0  0  0  0]]\n"
     ]
    }
   ],
   "source": [
    "# Construct the positive sequence constrain matrix C0\n",
    "C0 = np.zeros((20, 12), dtype=int)  # 20 branches, 12 nodes\n",
    "\n",
    "# Lines\n",
    "for branch_idx, row in dfs[\"Lines\"].iterrows():\n",
    "    node_a = int(row[\"Node A\"]) - 1  # 0-based indexing\n",
    "    node_b = int(row[\"Node B\"]) - 1\n",
    "\n",
    "    C0[branch_idx, node_a] = -1\n",
    "    C0[branch_idx, node_b] =  1\n",
    "\n",
    "# Generators\n",
    "start_row = len(dfs[\"Lines\"])  # where generator rows begin\n",
    "for gen_idx, row in dfs[\"Generators\"].iterrows():\n",
    "    node = int(row[\"Connecting Nodes\"]) - 1\n",
    "    row_idx = start_row + gen_idx\n",
    "    C0[row_idx, node] = 1\n",
    "\n",
    "# Transformers\n",
    "start_row += len(dfs[\"Generators\"])\n",
    "for trafo_idx, row in dfs[\"Transformers\"].iterrows():\n",
    "    node_h = int(row[\"Node H\"]) - 1\n",
    "    row_idx = start_row + trafo_idx\n",
    "    C0[row_idx, node_h] = 1\n",
    "\n",
    "\n",
    "print(C0)"
   ]
  },
  {
   "cell_type": "markdown",
   "id": "a7b311d2",
   "metadata": {},
   "source": [
    "## Zero Sequence Matrices\n",
    "### Three Phase Fault"
   ]
  },
  {
   "cell_type": "code",
   "execution_count": null,
   "id": "fc672be1",
   "metadata": {},
   "outputs": [],
   "source": []
  }
 ],
 "metadata": {
  "kernelspec": {
   "display_name": "Python 3",
   "language": "python",
   "name": "python3"
  },
  "language_info": {
   "codemirror_mode": {
    "name": "ipython",
    "version": 3
   },
   "file_extension": ".py",
   "mimetype": "text/x-python",
   "name": "python",
   "nbconvert_exporter": "python",
   "pygments_lexer": "ipython3",
   "version": "3.11.0"
  }
 },
 "nbformat": 4,
 "nbformat_minor": 5
}
